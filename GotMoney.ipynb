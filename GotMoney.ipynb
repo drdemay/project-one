{
 "cells": [
  {
   "cell_type": "code",
   "execution_count": 1,
   "metadata": {},
   "outputs": [],
   "source": [
    "# Perform imports\n",
    "import pandas as pd\n",
    "import matplotlib.pyplot as plt\n",
    "import numpy as np\n",
    "import scipy.stats as stats"
   ]
  },
  {
   "cell_type": "code",
   "execution_count": 2,
   "metadata": {},
   "outputs": [
    {
     "name": "stdout",
     "output_type": "stream",
     "text": [
      "          Description1\n",
      "O     Other Nonprofits\n",
      "PC      Public Charity\n",
      "PF  Private Foundation\n",
      "U              Unknown\n",
      "                    Description2\n",
      "M  Mutual Benefit Public Charity\n",
      "O       Operating Public Charity\n",
      "S      Supporting Public Charity\n",
      "                           Description3\n",
      "AR         Arts, culture and humanities\n",
      "ED                            Education\n",
      "EN                  Environment/animals\n",
      "HE                               Health\n",
      "HS                       Human Services\n",
      "IN       International, foreign affairs\n",
      "MO                 Other mutual benefit\n",
      "MR         Pension and retirement funds\n",
      "PB             Public, societal benefit\n",
      "RE                     Religion related\n",
      "UN                Unknown, unclassified\n",
      "ZA          Single organization support\n",
      "ZB  Fundraising within NTEE major group\n",
      "ZC      Private grantmaking foundations\n",
      "ZD                   Public foundations\n",
      "ZE                  General fundraising\n",
      "ZF      Other Supporting Public Benefit\n",
      "                                        Description4\n",
      "                                             Unknown\n",
      "A                      Arts, Culture, and Humanities\n",
      "B                                          Education\n",
      "C  Environmental Quality, Protection, and Beautif...\n",
      "D                                     Animal-Related\n",
      "E                                             Health\n",
      "F                 Mental Health, Crisis Intervention\n",
      "G           Diseases, Disorders, Medical Disciplines\n",
      "H                                   Medical Research\n",
      "I                               Crime, Legal Related\n",
      "J                            Employment, Job Related\n",
      "K                   Food, Agriculture, and Nutrition\n",
      "L                                   Housing, Shelter\n",
      "M                                      Public Safety\n",
      "N             Recreation, Sports, Leisure, Athletics\n",
      "O                                  Youth Development\n",
      "P            Human Services - Multipurpose and Other\n",
      "Q  International, Foreign Affairs, and National S...\n",
      "R              Civil Rights, Social Action, Advocacy\n",
      "S           Community Improvement, Capacity Building\n",
      "T  Philanthropy, Voluntarism, and Grantmaking Fou...\n",
      "U  Science and Technology Research Institutes, Se...\n",
      "V       Social Science Research Institutes, Services\n",
      "W   Public, Society Benefit - Multipurpose and Other\n",
      "X            Religion Related, Spiritual Development\n",
      "Y     Mutual/Membership Benefit Organizations, Other\n",
      "Z                                   Unknown\\tUnknown\n"
     ]
    }
   ],
   "source": [
    "file_Level1 = \"./Resources/NCSSDataDictLevel1.txt\"\n",
    "file_Level2 = \"./Resources/NCSSDataDictLevel2.txt\"\n",
    "file_Level3 = \"./Resources/NCSSDataDictLevel3.txt\"\n",
    "file_Level4 = \"./Resources/NCSSDataDictLevel4.txt\"\n",
    "\n",
    "dict_Level1 = pd.read_json(file_Level1)\n",
    "dict_Level2 = pd.read_json(file_Level2)\n",
    "dict_Level3 = pd.read_json(file_Level3)\n",
    "dict_Level4 = pd.read_json(file_Level4)\n",
    "print(dict_Level1)\n",
    "print(dict_Level2)\n",
    "print(dict_Level3)\n",
    "print(dict_Level4)"
   ]
  },
  {
   "cell_type": "code",
   "execution_count": 3,
   "metadata": {},
   "outputs": [],
   "source": [
    "# specify file names\n",
    "gov_data_file = \"./Resources/2018_BMF.csv\""
   ]
  },
  {
   "cell_type": "code",
   "execution_count": 4,
   "metadata": {},
   "outputs": [],
   "source": [
    "# import files\n",
    "gov_data = pd.read_csv(gov_data_file, low_memory=False)"
   ]
  },
  {
   "cell_type": "code",
   "execution_count": 5,
   "metadata": {},
   "outputs": [
    {
     "data": {
      "text/plain": [
       "EIN          1499450\n",
       "SEC_NAME      404909\n",
       "FRCD         1499450\n",
       "SUBSECCD     1499450\n",
       "TAXPER       1240366\n",
       "ASSETS       1223112\n",
       "INCOME       1223112\n",
       "NAME         1499450\n",
       "ADDRESS      1499450\n",
       "CITY         1499450\n",
       "STATE        1498426\n",
       "NTEECONF        4518\n",
       "NTEEFINAL    1499450\n",
       "NAICS        1495191\n",
       "ZIP5         1499353\n",
       "OUTNCCS      1499450\n",
       "OUTREAS         3021\n",
       "RULEDATE     1499450\n",
       "FIPS         1496643\n",
       "FNDNCD       1499450\n",
       "PMSA          506362\n",
       "MSA_NECH     1175676\n",
       "CASSETS       542418\n",
       "CFINSRC       542418\n",
       "CTAXPER       542418\n",
       "CTOTREV       542418\n",
       "ACCPER       1240366\n",
       "RANDNUM      1499450\n",
       "NTEECC       1499450\n",
       "NTEE1        1499450\n",
       "LEVEL4       1499450\n",
       "LEVEL1       1499450\n",
       "NTMAJ10      1499450\n",
       "MAJGRPB      1499450\n",
       "LEVEL3       1499450\n",
       "LEVEL2       1499450\n",
       "NTMAJ12      1499450\n",
       "NTMAJ5       1499450\n",
       "FILER        1499450\n",
       "ZFILER       1499450\n",
       "dtype: int64"
      ]
     },
     "execution_count": 5,
     "metadata": {},
     "output_type": "execute_result"
    }
   ],
   "source": [
    "# check the number of data rows per column\n",
    "gov_data.count()"
   ]
  },
  {
   "cell_type": "code",
   "execution_count": 6,
   "metadata": {},
   "outputs": [
    {
     "data": {
      "text/html": [
       "<div>\n",
       "<style scoped>\n",
       "    .dataframe tbody tr th:only-of-type {\n",
       "        vertical-align: middle;\n",
       "    }\n",
       "\n",
       "    .dataframe tbody tr th {\n",
       "        vertical-align: top;\n",
       "    }\n",
       "\n",
       "    .dataframe thead th {\n",
       "        text-align: right;\n",
       "    }\n",
       "</style>\n",
       "<table border=\"1\" class=\"dataframe\">\n",
       "  <thead>\n",
       "    <tr style=\"text-align: right;\">\n",
       "      <th></th>\n",
       "      <th>EIN</th>\n",
       "      <th>SEC_NAME</th>\n",
       "      <th>FRCD</th>\n",
       "      <th>SUBSECCD</th>\n",
       "      <th>TAXPER</th>\n",
       "      <th>ASSETS</th>\n",
       "      <th>INCOME</th>\n",
       "      <th>NAME</th>\n",
       "      <th>ADDRESS</th>\n",
       "      <th>CITY</th>\n",
       "      <th>...</th>\n",
       "      <th>LEVEL4</th>\n",
       "      <th>LEVEL1</th>\n",
       "      <th>NTMAJ10</th>\n",
       "      <th>MAJGRPB</th>\n",
       "      <th>LEVEL3</th>\n",
       "      <th>LEVEL2</th>\n",
       "      <th>NTMAJ12</th>\n",
       "      <th>NTMAJ5</th>\n",
       "      <th>FILER</th>\n",
       "      <th>ZFILER</th>\n",
       "    </tr>\n",
       "  </thead>\n",
       "  <tbody>\n",
       "    <tr>\n",
       "      <td>0</td>\n",
       "      <td>19818</td>\n",
       "      <td>3514</td>\n",
       "      <td>60</td>\n",
       "      <td>3</td>\n",
       "      <td>NaN</td>\n",
       "      <td>NaN</td>\n",
       "      <td>NaN</td>\n",
       "      <td>PALMER SECOND BAPTIST CHURCH</td>\n",
       "      <td>1050 THORNDIKE ST</td>\n",
       "      <td>PALMER</td>\n",
       "      <td>...</td>\n",
       "      <td>X</td>\n",
       "      <td>PC</td>\n",
       "      <td>RE</td>\n",
       "      <td>X</td>\n",
       "      <td>RE</td>\n",
       "      <td>O</td>\n",
       "      <td>RE</td>\n",
       "      <td>OT</td>\n",
       "      <td>N</td>\n",
       "      <td>N</td>\n",
       "    </tr>\n",
       "    <tr>\n",
       "      <td>1</td>\n",
       "      <td>29215</td>\n",
       "      <td>NaN</td>\n",
       "      <td>60</td>\n",
       "      <td>3</td>\n",
       "      <td>NaN</td>\n",
       "      <td>NaN</td>\n",
       "      <td>NaN</td>\n",
       "      <td>ST GEORGE CATHEDRAL</td>\n",
       "      <td>523 E BROADWAY</td>\n",
       "      <td>SOUTH BOSTON</td>\n",
       "      <td>...</td>\n",
       "      <td>X</td>\n",
       "      <td>PC</td>\n",
       "      <td>RE</td>\n",
       "      <td>X</td>\n",
       "      <td>RE</td>\n",
       "      <td>O</td>\n",
       "      <td>RE</td>\n",
       "      <td>OT</td>\n",
       "      <td>N</td>\n",
       "      <td>N</td>\n",
       "    </tr>\n",
       "    <tr>\n",
       "      <td>2</td>\n",
       "      <td>260049</td>\n",
       "      <td>NaN</td>\n",
       "      <td>60</td>\n",
       "      <td>3</td>\n",
       "      <td>NaN</td>\n",
       "      <td>NaN</td>\n",
       "      <td>NaN</td>\n",
       "      <td>CORINTH BAPTIST CHURCH</td>\n",
       "      <td>PO BOX 92</td>\n",
       "      <td>HOSFORD</td>\n",
       "      <td>...</td>\n",
       "      <td>X</td>\n",
       "      <td>PC</td>\n",
       "      <td>RE</td>\n",
       "      <td>X</td>\n",
       "      <td>RE</td>\n",
       "      <td>O</td>\n",
       "      <td>RE</td>\n",
       "      <td>OT</td>\n",
       "      <td>N</td>\n",
       "      <td>N</td>\n",
       "    </tr>\n",
       "    <tr>\n",
       "      <td>3</td>\n",
       "      <td>490336</td>\n",
       "      <td>NaN</td>\n",
       "      <td>60</td>\n",
       "      <td>3</td>\n",
       "      <td>NaN</td>\n",
       "      <td>NaN</td>\n",
       "      <td>NaN</td>\n",
       "      <td>EASTSIDE BAPTIST CHURCH</td>\n",
       "      <td>PO BOX 296</td>\n",
       "      <td>LABELLE</td>\n",
       "      <td>...</td>\n",
       "      <td>X</td>\n",
       "      <td>PC</td>\n",
       "      <td>RE</td>\n",
       "      <td>X</td>\n",
       "      <td>RE</td>\n",
       "      <td>O</td>\n",
       "      <td>RE</td>\n",
       "      <td>OT</td>\n",
       "      <td>N</td>\n",
       "      <td>N</td>\n",
       "    </tr>\n",
       "    <tr>\n",
       "      <td>4</td>\n",
       "      <td>587764</td>\n",
       "      <td>NaN</td>\n",
       "      <td>60</td>\n",
       "      <td>3</td>\n",
       "      <td>NaN</td>\n",
       "      <td>NaN</td>\n",
       "      <td>NaN</td>\n",
       "      <td>IGLESIA BETHESDA INC</td>\n",
       "      <td>157 ANDOVER ST</td>\n",
       "      <td>LOWELL</td>\n",
       "      <td>...</td>\n",
       "      <td>X</td>\n",
       "      <td>PC</td>\n",
       "      <td>RE</td>\n",
       "      <td>X</td>\n",
       "      <td>RE</td>\n",
       "      <td>O</td>\n",
       "      <td>RE</td>\n",
       "      <td>OT</td>\n",
       "      <td>N</td>\n",
       "      <td>N</td>\n",
       "    </tr>\n",
       "    <tr>\n",
       "      <td>...</td>\n",
       "      <td>...</td>\n",
       "      <td>...</td>\n",
       "      <td>...</td>\n",
       "      <td>...</td>\n",
       "      <td>...</td>\n",
       "      <td>...</td>\n",
       "      <td>...</td>\n",
       "      <td>...</td>\n",
       "      <td>...</td>\n",
       "      <td>...</td>\n",
       "      <td>...</td>\n",
       "      <td>...</td>\n",
       "      <td>...</td>\n",
       "      <td>...</td>\n",
       "      <td>...</td>\n",
       "      <td>...</td>\n",
       "      <td>...</td>\n",
       "      <td>...</td>\n",
       "      <td>...</td>\n",
       "      <td>...</td>\n",
       "      <td>...</td>\n",
       "    </tr>\n",
       "    <tr>\n",
       "      <td>1499445</td>\n",
       "      <td>996089401</td>\n",
       "      <td>NaN</td>\n",
       "      <td>1</td>\n",
       "      <td>3</td>\n",
       "      <td>201803.0</td>\n",
       "      <td>670570.0</td>\n",
       "      <td>160467.0</td>\n",
       "      <td>TOYO SAKUMOTO CHARITABLE TR</td>\n",
       "      <td>PO BOX 3170</td>\n",
       "      <td>HONOLULU</td>\n",
       "      <td>...</td>\n",
       "      <td>T</td>\n",
       "      <td>PF</td>\n",
       "      <td>PU</td>\n",
       "      <td>T</td>\n",
       "      <td>ZC</td>\n",
       "      <td>S</td>\n",
       "      <td>PU</td>\n",
       "      <td>OT</td>\n",
       "      <td>Y</td>\n",
       "      <td>N</td>\n",
       "    </tr>\n",
       "    <tr>\n",
       "      <td>1499446</td>\n",
       "      <td>996165005</td>\n",
       "      <td>145 PHILOTESIAN REBEKAH LODGE</td>\n",
       "      <td>20</td>\n",
       "      <td>8</td>\n",
       "      <td>201712.0</td>\n",
       "      <td>0.0</td>\n",
       "      <td>0.0</td>\n",
       "      <td>INDEPENDENT ORDER OF ODD FELLOWS</td>\n",
       "      <td>PO BOX 76</td>\n",
       "      <td>CUPERTINO</td>\n",
       "      <td>...</td>\n",
       "      <td>Y</td>\n",
       "      <td>O</td>\n",
       "      <td>MU</td>\n",
       "      <td>Y</td>\n",
       "      <td>MO</td>\n",
       "      <td>M</td>\n",
       "      <td>MU</td>\n",
       "      <td>OT</td>\n",
       "      <td>Y</td>\n",
       "      <td>Y</td>\n",
       "    </tr>\n",
       "    <tr>\n",
       "      <td>1499447</td>\n",
       "      <td>998010224</td>\n",
       "      <td>NaN</td>\n",
       "      <td>1</td>\n",
       "      <td>3</td>\n",
       "      <td>201612.0</td>\n",
       "      <td>737906.0</td>\n",
       "      <td>177689.0</td>\n",
       "      <td>HAWAII FOUNDATION FOR THE BLIND</td>\n",
       "      <td>225 LILIUOKALANI AVE APT 5D</td>\n",
       "      <td>HONOLULU</td>\n",
       "      <td>...</td>\n",
       "      <td>P</td>\n",
       "      <td>PF</td>\n",
       "      <td>HU</td>\n",
       "      <td>P</td>\n",
       "      <td>HS</td>\n",
       "      <td>O</td>\n",
       "      <td>HU</td>\n",
       "      <td>HU</td>\n",
       "      <td>Y</td>\n",
       "      <td>N</td>\n",
       "    </tr>\n",
       "    <tr>\n",
       "      <td>1499448</td>\n",
       "      <td>998997790</td>\n",
       "      <td>YOUNG RIDERS</td>\n",
       "      <td>20</td>\n",
       "      <td>3</td>\n",
       "      <td>201708.0</td>\n",
       "      <td>0.0</td>\n",
       "      <td>0.0</td>\n",
       "      <td>CHAMPAIGN COUNTY EXTENSION EDUCATION FOUNDATION</td>\n",
       "      <td>1120 N WEBSTER ST</td>\n",
       "      <td>TAYLORVILLE</td>\n",
       "      <td>...</td>\n",
       "      <td>B</td>\n",
       "      <td>PC</td>\n",
       "      <td>ED</td>\n",
       "      <td>B</td>\n",
       "      <td>ZA</td>\n",
       "      <td>S</td>\n",
       "      <td>ED</td>\n",
       "      <td>ED</td>\n",
       "      <td>Y</td>\n",
       "      <td>Y</td>\n",
       "    </tr>\n",
       "    <tr>\n",
       "      <td>1499449</td>\n",
       "      <td>999009356</td>\n",
       "      <td>NaN</td>\n",
       "      <td>20</td>\n",
       "      <td>5</td>\n",
       "      <td>201712.0</td>\n",
       "      <td>0.0</td>\n",
       "      <td>0.0</td>\n",
       "      <td>NATIONAL ASSOCIATION OF LETTER CARRIERS</td>\n",
       "      <td>PO BOX 25854</td>\n",
       "      <td>HONOLULU</td>\n",
       "      <td>...</td>\n",
       "      <td>J</td>\n",
       "      <td>O</td>\n",
       "      <td>HU</td>\n",
       "      <td>J</td>\n",
       "      <td>HS</td>\n",
       "      <td>O</td>\n",
       "      <td>HU</td>\n",
       "      <td>HU</td>\n",
       "      <td>Y</td>\n",
       "      <td>Y</td>\n",
       "    </tr>\n",
       "  </tbody>\n",
       "</table>\n",
       "<p>1499450 rows × 40 columns</p>\n",
       "</div>"
      ],
      "text/plain": [
       "               EIN                       SEC_NAME  FRCD  SUBSECCD    TAXPER  \\\n",
       "0            19818                           3514    60         3       NaN   \n",
       "1            29215                            NaN    60         3       NaN   \n",
       "2           260049                            NaN    60         3       NaN   \n",
       "3           490336                            NaN    60         3       NaN   \n",
       "4           587764                            NaN    60         3       NaN   \n",
       "...            ...                            ...   ...       ...       ...   \n",
       "1499445  996089401                            NaN     1         3  201803.0   \n",
       "1499446  996165005  145 PHILOTESIAN REBEKAH LODGE    20         8  201712.0   \n",
       "1499447  998010224                            NaN     1         3  201612.0   \n",
       "1499448  998997790                   YOUNG RIDERS    20         3  201708.0   \n",
       "1499449  999009356                            NaN    20         5  201712.0   \n",
       "\n",
       "           ASSETS    INCOME                                             NAME  \\\n",
       "0             NaN       NaN                     PALMER SECOND BAPTIST CHURCH   \n",
       "1             NaN       NaN                              ST GEORGE CATHEDRAL   \n",
       "2             NaN       NaN                           CORINTH BAPTIST CHURCH   \n",
       "3             NaN       NaN                          EASTSIDE BAPTIST CHURCH   \n",
       "4             NaN       NaN                             IGLESIA BETHESDA INC   \n",
       "...           ...       ...                                              ...   \n",
       "1499445  670570.0  160467.0                      TOYO SAKUMOTO CHARITABLE TR   \n",
       "1499446       0.0       0.0                 INDEPENDENT ORDER OF ODD FELLOWS   \n",
       "1499447  737906.0  177689.0                  HAWAII FOUNDATION FOR THE BLIND   \n",
       "1499448       0.0       0.0  CHAMPAIGN COUNTY EXTENSION EDUCATION FOUNDATION   \n",
       "1499449       0.0       0.0          NATIONAL ASSOCIATION OF LETTER CARRIERS   \n",
       "\n",
       "                             ADDRESS          CITY  ... LEVEL4 LEVEL1 NTMAJ10  \\\n",
       "0                  1050 THORNDIKE ST        PALMER  ...      X     PC      RE   \n",
       "1                     523 E BROADWAY  SOUTH BOSTON  ...      X     PC      RE   \n",
       "2                          PO BOX 92       HOSFORD  ...      X     PC      RE   \n",
       "3                         PO BOX 296       LABELLE  ...      X     PC      RE   \n",
       "4                     157 ANDOVER ST        LOWELL  ...      X     PC      RE   \n",
       "...                              ...           ...  ...    ...    ...     ...   \n",
       "1499445                  PO BOX 3170      HONOLULU  ...      T     PF      PU   \n",
       "1499446                    PO BOX 76     CUPERTINO  ...      Y      O      MU   \n",
       "1499447  225 LILIUOKALANI AVE APT 5D      HONOLULU  ...      P     PF      HU   \n",
       "1499448            1120 N WEBSTER ST   TAYLORVILLE  ...      B     PC      ED   \n",
       "1499449                 PO BOX 25854      HONOLULU  ...      J      O      HU   \n",
       "\n",
       "         MAJGRPB  LEVEL3 LEVEL2 NTMAJ12  NTMAJ5  FILER  ZFILER  \n",
       "0              X      RE      O      RE      OT      N       N  \n",
       "1              X      RE      O      RE      OT      N       N  \n",
       "2              X      RE      O      RE      OT      N       N  \n",
       "3              X      RE      O      RE      OT      N       N  \n",
       "4              X      RE      O      RE      OT      N       N  \n",
       "...          ...     ...    ...     ...     ...    ...     ...  \n",
       "1499445        T      ZC      S      PU      OT      Y       N  \n",
       "1499446        Y      MO      M      MU      OT      Y       Y  \n",
       "1499447        P      HS      O      HU      HU      Y       N  \n",
       "1499448        B      ZA      S      ED      ED      Y       Y  \n",
       "1499449        J      HS      O      HU      HU      Y       Y  \n",
       "\n",
       "[1499450 rows x 40 columns]"
      ]
     },
     "execution_count": 6,
     "metadata": {},
     "output_type": "execute_result"
    }
   ],
   "source": [
    "# display the data read in\n",
    "gov_data"
   ]
  },
  {
   "cell_type": "code",
   "execution_count": 7,
   "metadata": {},
   "outputs": [],
   "source": [
    "# identify the indices of rows we want to eliminate\n",
    "indexNames = gov_data[gov_data[\"LEVEL1\"]==\"O\"].index"
   ]
  },
  {
   "cell_type": "code",
   "execution_count": 8,
   "metadata": {},
   "outputs": [
    {
     "data": {
      "text/plain": [
       "349167"
      ]
     },
     "execution_count": 8,
     "metadata": {},
     "output_type": "execute_result"
    }
   ],
   "source": [
    "len(indexNames)"
   ]
  },
  {
   "cell_type": "code",
   "execution_count": 9,
   "metadata": {},
   "outputs": [],
   "source": [
    "gov_data.drop(indexNames, inplace=True)"
   ]
  },
  {
   "cell_type": "code",
   "execution_count": 10,
   "metadata": {},
   "outputs": [
    {
     "data": {
      "text/html": [
       "<div>\n",
       "<style scoped>\n",
       "    .dataframe tbody tr th:only-of-type {\n",
       "        vertical-align: middle;\n",
       "    }\n",
       "\n",
       "    .dataframe tbody tr th {\n",
       "        vertical-align: top;\n",
       "    }\n",
       "\n",
       "    .dataframe thead th {\n",
       "        text-align: right;\n",
       "    }\n",
       "</style>\n",
       "<table border=\"1\" class=\"dataframe\">\n",
       "  <thead>\n",
       "    <tr style=\"text-align: right;\">\n",
       "      <th></th>\n",
       "      <th>EIN</th>\n",
       "      <th>SEC_NAME</th>\n",
       "      <th>FRCD</th>\n",
       "      <th>SUBSECCD</th>\n",
       "      <th>TAXPER</th>\n",
       "      <th>ASSETS</th>\n",
       "      <th>INCOME</th>\n",
       "      <th>NAME</th>\n",
       "      <th>ADDRESS</th>\n",
       "      <th>CITY</th>\n",
       "      <th>...</th>\n",
       "      <th>LEVEL4</th>\n",
       "      <th>LEVEL1</th>\n",
       "      <th>NTMAJ10</th>\n",
       "      <th>MAJGRPB</th>\n",
       "      <th>LEVEL3</th>\n",
       "      <th>LEVEL2</th>\n",
       "      <th>NTMAJ12</th>\n",
       "      <th>NTMAJ5</th>\n",
       "      <th>FILER</th>\n",
       "      <th>ZFILER</th>\n",
       "    </tr>\n",
       "  </thead>\n",
       "  <tbody>\n",
       "    <tr>\n",
       "      <td>0</td>\n",
       "      <td>19818</td>\n",
       "      <td>3514</td>\n",
       "      <td>60</td>\n",
       "      <td>3</td>\n",
       "      <td>NaN</td>\n",
       "      <td>NaN</td>\n",
       "      <td>NaN</td>\n",
       "      <td>PALMER SECOND BAPTIST CHURCH</td>\n",
       "      <td>1050 THORNDIKE ST</td>\n",
       "      <td>PALMER</td>\n",
       "      <td>...</td>\n",
       "      <td>X</td>\n",
       "      <td>PC</td>\n",
       "      <td>RE</td>\n",
       "      <td>X</td>\n",
       "      <td>RE</td>\n",
       "      <td>O</td>\n",
       "      <td>RE</td>\n",
       "      <td>OT</td>\n",
       "      <td>N</td>\n",
       "      <td>N</td>\n",
       "    </tr>\n",
       "    <tr>\n",
       "      <td>1</td>\n",
       "      <td>29215</td>\n",
       "      <td>NaN</td>\n",
       "      <td>60</td>\n",
       "      <td>3</td>\n",
       "      <td>NaN</td>\n",
       "      <td>NaN</td>\n",
       "      <td>NaN</td>\n",
       "      <td>ST GEORGE CATHEDRAL</td>\n",
       "      <td>523 E BROADWAY</td>\n",
       "      <td>SOUTH BOSTON</td>\n",
       "      <td>...</td>\n",
       "      <td>X</td>\n",
       "      <td>PC</td>\n",
       "      <td>RE</td>\n",
       "      <td>X</td>\n",
       "      <td>RE</td>\n",
       "      <td>O</td>\n",
       "      <td>RE</td>\n",
       "      <td>OT</td>\n",
       "      <td>N</td>\n",
       "      <td>N</td>\n",
       "    </tr>\n",
       "    <tr>\n",
       "      <td>2</td>\n",
       "      <td>260049</td>\n",
       "      <td>NaN</td>\n",
       "      <td>60</td>\n",
       "      <td>3</td>\n",
       "      <td>NaN</td>\n",
       "      <td>NaN</td>\n",
       "      <td>NaN</td>\n",
       "      <td>CORINTH BAPTIST CHURCH</td>\n",
       "      <td>PO BOX 92</td>\n",
       "      <td>HOSFORD</td>\n",
       "      <td>...</td>\n",
       "      <td>X</td>\n",
       "      <td>PC</td>\n",
       "      <td>RE</td>\n",
       "      <td>X</td>\n",
       "      <td>RE</td>\n",
       "      <td>O</td>\n",
       "      <td>RE</td>\n",
       "      <td>OT</td>\n",
       "      <td>N</td>\n",
       "      <td>N</td>\n",
       "    </tr>\n",
       "    <tr>\n",
       "      <td>3</td>\n",
       "      <td>490336</td>\n",
       "      <td>NaN</td>\n",
       "      <td>60</td>\n",
       "      <td>3</td>\n",
       "      <td>NaN</td>\n",
       "      <td>NaN</td>\n",
       "      <td>NaN</td>\n",
       "      <td>EASTSIDE BAPTIST CHURCH</td>\n",
       "      <td>PO BOX 296</td>\n",
       "      <td>LABELLE</td>\n",
       "      <td>...</td>\n",
       "      <td>X</td>\n",
       "      <td>PC</td>\n",
       "      <td>RE</td>\n",
       "      <td>X</td>\n",
       "      <td>RE</td>\n",
       "      <td>O</td>\n",
       "      <td>RE</td>\n",
       "      <td>OT</td>\n",
       "      <td>N</td>\n",
       "      <td>N</td>\n",
       "    </tr>\n",
       "    <tr>\n",
       "      <td>4</td>\n",
       "      <td>587764</td>\n",
       "      <td>NaN</td>\n",
       "      <td>60</td>\n",
       "      <td>3</td>\n",
       "      <td>NaN</td>\n",
       "      <td>NaN</td>\n",
       "      <td>NaN</td>\n",
       "      <td>IGLESIA BETHESDA INC</td>\n",
       "      <td>157 ANDOVER ST</td>\n",
       "      <td>LOWELL</td>\n",
       "      <td>...</td>\n",
       "      <td>X</td>\n",
       "      <td>PC</td>\n",
       "      <td>RE</td>\n",
       "      <td>X</td>\n",
       "      <td>RE</td>\n",
       "      <td>O</td>\n",
       "      <td>RE</td>\n",
       "      <td>OT</td>\n",
       "      <td>N</td>\n",
       "      <td>N</td>\n",
       "    </tr>\n",
       "    <tr>\n",
       "      <td>...</td>\n",
       "      <td>...</td>\n",
       "      <td>...</td>\n",
       "      <td>...</td>\n",
       "      <td>...</td>\n",
       "      <td>...</td>\n",
       "      <td>...</td>\n",
       "      <td>...</td>\n",
       "      <td>...</td>\n",
       "      <td>...</td>\n",
       "      <td>...</td>\n",
       "      <td>...</td>\n",
       "      <td>...</td>\n",
       "      <td>...</td>\n",
       "      <td>...</td>\n",
       "      <td>...</td>\n",
       "      <td>...</td>\n",
       "      <td>...</td>\n",
       "      <td>...</td>\n",
       "      <td>...</td>\n",
       "      <td>...</td>\n",
       "      <td>...</td>\n",
       "    </tr>\n",
       "    <tr>\n",
       "      <td>1499443</td>\n",
       "      <td>996087839</td>\n",
       "      <td>CARTWRIGHT RACHAEL</td>\n",
       "      <td>3</td>\n",
       "      <td>3</td>\n",
       "      <td>201712.0</td>\n",
       "      <td>10109.0</td>\n",
       "      <td>22000.0</td>\n",
       "      <td>KEIKI KOHOLA PROJECT</td>\n",
       "      <td>1330 SABAL LAKES RD</td>\n",
       "      <td>DELRAY BEACH</td>\n",
       "      <td>...</td>\n",
       "      <td>U</td>\n",
       "      <td>PF</td>\n",
       "      <td>PU</td>\n",
       "      <td>U</td>\n",
       "      <td>PB</td>\n",
       "      <td>S</td>\n",
       "      <td>PU</td>\n",
       "      <td>OT</td>\n",
       "      <td>Y</td>\n",
       "      <td>N</td>\n",
       "    </tr>\n",
       "    <tr>\n",
       "      <td>1499444</td>\n",
       "      <td>996088748</td>\n",
       "      <td>PACIFIC CENTURY TR TTEE</td>\n",
       "      <td>1</td>\n",
       "      <td>3</td>\n",
       "      <td>201803.0</td>\n",
       "      <td>377564.0</td>\n",
       "      <td>64829.0</td>\n",
       "      <td>UNOYO KOJIMA TRUST</td>\n",
       "      <td>PO BOX 3170</td>\n",
       "      <td>HONOLULU</td>\n",
       "      <td>...</td>\n",
       "      <td>T</td>\n",
       "      <td>PF</td>\n",
       "      <td>PU</td>\n",
       "      <td>T</td>\n",
       "      <td>ZC</td>\n",
       "      <td>S</td>\n",
       "      <td>PU</td>\n",
       "      <td>OT</td>\n",
       "      <td>Y</td>\n",
       "      <td>N</td>\n",
       "    </tr>\n",
       "    <tr>\n",
       "      <td>1499445</td>\n",
       "      <td>996089401</td>\n",
       "      <td>NaN</td>\n",
       "      <td>1</td>\n",
       "      <td>3</td>\n",
       "      <td>201803.0</td>\n",
       "      <td>670570.0</td>\n",
       "      <td>160467.0</td>\n",
       "      <td>TOYO SAKUMOTO CHARITABLE TR</td>\n",
       "      <td>PO BOX 3170</td>\n",
       "      <td>HONOLULU</td>\n",
       "      <td>...</td>\n",
       "      <td>T</td>\n",
       "      <td>PF</td>\n",
       "      <td>PU</td>\n",
       "      <td>T</td>\n",
       "      <td>ZC</td>\n",
       "      <td>S</td>\n",
       "      <td>PU</td>\n",
       "      <td>OT</td>\n",
       "      <td>Y</td>\n",
       "      <td>N</td>\n",
       "    </tr>\n",
       "    <tr>\n",
       "      <td>1499447</td>\n",
       "      <td>998010224</td>\n",
       "      <td>NaN</td>\n",
       "      <td>1</td>\n",
       "      <td>3</td>\n",
       "      <td>201612.0</td>\n",
       "      <td>737906.0</td>\n",
       "      <td>177689.0</td>\n",
       "      <td>HAWAII FOUNDATION FOR THE BLIND</td>\n",
       "      <td>225 LILIUOKALANI AVE APT 5D</td>\n",
       "      <td>HONOLULU</td>\n",
       "      <td>...</td>\n",
       "      <td>P</td>\n",
       "      <td>PF</td>\n",
       "      <td>HU</td>\n",
       "      <td>P</td>\n",
       "      <td>HS</td>\n",
       "      <td>O</td>\n",
       "      <td>HU</td>\n",
       "      <td>HU</td>\n",
       "      <td>Y</td>\n",
       "      <td>N</td>\n",
       "    </tr>\n",
       "    <tr>\n",
       "      <td>1499448</td>\n",
       "      <td>998997790</td>\n",
       "      <td>YOUNG RIDERS</td>\n",
       "      <td>20</td>\n",
       "      <td>3</td>\n",
       "      <td>201708.0</td>\n",
       "      <td>0.0</td>\n",
       "      <td>0.0</td>\n",
       "      <td>CHAMPAIGN COUNTY EXTENSION EDUCATION FOUNDATION</td>\n",
       "      <td>1120 N WEBSTER ST</td>\n",
       "      <td>TAYLORVILLE</td>\n",
       "      <td>...</td>\n",
       "      <td>B</td>\n",
       "      <td>PC</td>\n",
       "      <td>ED</td>\n",
       "      <td>B</td>\n",
       "      <td>ZA</td>\n",
       "      <td>S</td>\n",
       "      <td>ED</td>\n",
       "      <td>ED</td>\n",
       "      <td>Y</td>\n",
       "      <td>Y</td>\n",
       "    </tr>\n",
       "  </tbody>\n",
       "</table>\n",
       "<p>1150283 rows × 40 columns</p>\n",
       "</div>"
      ],
      "text/plain": [
       "               EIN                 SEC_NAME  FRCD  SUBSECCD    TAXPER  \\\n",
       "0            19818                     3514    60         3       NaN   \n",
       "1            29215                      NaN    60         3       NaN   \n",
       "2           260049                      NaN    60         3       NaN   \n",
       "3           490336                      NaN    60         3       NaN   \n",
       "4           587764                      NaN    60         3       NaN   \n",
       "...            ...                      ...   ...       ...       ...   \n",
       "1499443  996087839       CARTWRIGHT RACHAEL     3         3  201712.0   \n",
       "1499444  996088748  PACIFIC CENTURY TR TTEE     1         3  201803.0   \n",
       "1499445  996089401                      NaN     1         3  201803.0   \n",
       "1499447  998010224                      NaN     1         3  201612.0   \n",
       "1499448  998997790             YOUNG RIDERS    20         3  201708.0   \n",
       "\n",
       "           ASSETS    INCOME                                             NAME  \\\n",
       "0             NaN       NaN                     PALMER SECOND BAPTIST CHURCH   \n",
       "1             NaN       NaN                              ST GEORGE CATHEDRAL   \n",
       "2             NaN       NaN                           CORINTH BAPTIST CHURCH   \n",
       "3             NaN       NaN                          EASTSIDE BAPTIST CHURCH   \n",
       "4             NaN       NaN                             IGLESIA BETHESDA INC   \n",
       "...           ...       ...                                              ...   \n",
       "1499443   10109.0   22000.0                             KEIKI KOHOLA PROJECT   \n",
       "1499444  377564.0   64829.0                               UNOYO KOJIMA TRUST   \n",
       "1499445  670570.0  160467.0                      TOYO SAKUMOTO CHARITABLE TR   \n",
       "1499447  737906.0  177689.0                  HAWAII FOUNDATION FOR THE BLIND   \n",
       "1499448       0.0       0.0  CHAMPAIGN COUNTY EXTENSION EDUCATION FOUNDATION   \n",
       "\n",
       "                             ADDRESS          CITY  ... LEVEL4 LEVEL1 NTMAJ10  \\\n",
       "0                  1050 THORNDIKE ST        PALMER  ...      X     PC      RE   \n",
       "1                     523 E BROADWAY  SOUTH BOSTON  ...      X     PC      RE   \n",
       "2                          PO BOX 92       HOSFORD  ...      X     PC      RE   \n",
       "3                         PO BOX 296       LABELLE  ...      X     PC      RE   \n",
       "4                     157 ANDOVER ST        LOWELL  ...      X     PC      RE   \n",
       "...                              ...           ...  ...    ...    ...     ...   \n",
       "1499443          1330 SABAL LAKES RD  DELRAY BEACH  ...      U     PF      PU   \n",
       "1499444                  PO BOX 3170      HONOLULU  ...      T     PF      PU   \n",
       "1499445                  PO BOX 3170      HONOLULU  ...      T     PF      PU   \n",
       "1499447  225 LILIUOKALANI AVE APT 5D      HONOLULU  ...      P     PF      HU   \n",
       "1499448            1120 N WEBSTER ST   TAYLORVILLE  ...      B     PC      ED   \n",
       "\n",
       "         MAJGRPB  LEVEL3 LEVEL2 NTMAJ12  NTMAJ5  FILER  ZFILER  \n",
       "0              X      RE      O      RE      OT      N       N  \n",
       "1              X      RE      O      RE      OT      N       N  \n",
       "2              X      RE      O      RE      OT      N       N  \n",
       "3              X      RE      O      RE      OT      N       N  \n",
       "4              X      RE      O      RE      OT      N       N  \n",
       "...          ...     ...    ...     ...     ...    ...     ...  \n",
       "1499443        U      PB      S      PU      OT      Y       N  \n",
       "1499444        T      ZC      S      PU      OT      Y       N  \n",
       "1499445        T      ZC      S      PU      OT      Y       N  \n",
       "1499447        P      HS      O      HU      HU      Y       N  \n",
       "1499448        B      ZA      S      ED      ED      Y       Y  \n",
       "\n",
       "[1150283 rows x 40 columns]"
      ]
     },
     "execution_count": 10,
     "metadata": {},
     "output_type": "execute_result"
    }
   ],
   "source": [
    "gov_data"
   ]
  },
  {
   "cell_type": "code",
   "execution_count": 11,
   "metadata": {},
   "outputs": [],
   "source": [
    "# identify the indices of rows we want to eliminate\n",
    "indexNames = gov_data[gov_data[\"LEVEL1\"]==\"U\"].index"
   ]
  },
  {
   "cell_type": "code",
   "execution_count": 12,
   "metadata": {},
   "outputs": [
    {
     "data": {
      "text/plain": [
       "30"
      ]
     },
     "execution_count": 12,
     "metadata": {},
     "output_type": "execute_result"
    }
   ],
   "source": [
    "len(indexNames)"
   ]
  },
  {
   "cell_type": "code",
   "execution_count": 13,
   "metadata": {},
   "outputs": [],
   "source": [
    "gov_data.drop(indexNames, inplace=True)"
   ]
  },
  {
   "cell_type": "code",
   "execution_count": 14,
   "metadata": {},
   "outputs": [
    {
     "data": {
      "text/html": [
       "<div>\n",
       "<style scoped>\n",
       "    .dataframe tbody tr th:only-of-type {\n",
       "        vertical-align: middle;\n",
       "    }\n",
       "\n",
       "    .dataframe tbody tr th {\n",
       "        vertical-align: top;\n",
       "    }\n",
       "\n",
       "    .dataframe thead th {\n",
       "        text-align: right;\n",
       "    }\n",
       "</style>\n",
       "<table border=\"1\" class=\"dataframe\">\n",
       "  <thead>\n",
       "    <tr style=\"text-align: right;\">\n",
       "      <th></th>\n",
       "      <th>EIN</th>\n",
       "      <th>SEC_NAME</th>\n",
       "      <th>FRCD</th>\n",
       "      <th>SUBSECCD</th>\n",
       "      <th>TAXPER</th>\n",
       "      <th>ASSETS</th>\n",
       "      <th>INCOME</th>\n",
       "      <th>NAME</th>\n",
       "      <th>ADDRESS</th>\n",
       "      <th>CITY</th>\n",
       "      <th>...</th>\n",
       "      <th>LEVEL4</th>\n",
       "      <th>LEVEL1</th>\n",
       "      <th>NTMAJ10</th>\n",
       "      <th>MAJGRPB</th>\n",
       "      <th>LEVEL3</th>\n",
       "      <th>LEVEL2</th>\n",
       "      <th>NTMAJ12</th>\n",
       "      <th>NTMAJ5</th>\n",
       "      <th>FILER</th>\n",
       "      <th>ZFILER</th>\n",
       "    </tr>\n",
       "  </thead>\n",
       "  <tbody>\n",
       "    <tr>\n",
       "      <td>0</td>\n",
       "      <td>19818</td>\n",
       "      <td>3514</td>\n",
       "      <td>60</td>\n",
       "      <td>3</td>\n",
       "      <td>NaN</td>\n",
       "      <td>NaN</td>\n",
       "      <td>NaN</td>\n",
       "      <td>PALMER SECOND BAPTIST CHURCH</td>\n",
       "      <td>1050 THORNDIKE ST</td>\n",
       "      <td>PALMER</td>\n",
       "      <td>...</td>\n",
       "      <td>X</td>\n",
       "      <td>PC</td>\n",
       "      <td>RE</td>\n",
       "      <td>X</td>\n",
       "      <td>RE</td>\n",
       "      <td>O</td>\n",
       "      <td>RE</td>\n",
       "      <td>OT</td>\n",
       "      <td>N</td>\n",
       "      <td>N</td>\n",
       "    </tr>\n",
       "    <tr>\n",
       "      <td>1</td>\n",
       "      <td>29215</td>\n",
       "      <td>NaN</td>\n",
       "      <td>60</td>\n",
       "      <td>3</td>\n",
       "      <td>NaN</td>\n",
       "      <td>NaN</td>\n",
       "      <td>NaN</td>\n",
       "      <td>ST GEORGE CATHEDRAL</td>\n",
       "      <td>523 E BROADWAY</td>\n",
       "      <td>SOUTH BOSTON</td>\n",
       "      <td>...</td>\n",
       "      <td>X</td>\n",
       "      <td>PC</td>\n",
       "      <td>RE</td>\n",
       "      <td>X</td>\n",
       "      <td>RE</td>\n",
       "      <td>O</td>\n",
       "      <td>RE</td>\n",
       "      <td>OT</td>\n",
       "      <td>N</td>\n",
       "      <td>N</td>\n",
       "    </tr>\n",
       "    <tr>\n",
       "      <td>2</td>\n",
       "      <td>260049</td>\n",
       "      <td>NaN</td>\n",
       "      <td>60</td>\n",
       "      <td>3</td>\n",
       "      <td>NaN</td>\n",
       "      <td>NaN</td>\n",
       "      <td>NaN</td>\n",
       "      <td>CORINTH BAPTIST CHURCH</td>\n",
       "      <td>PO BOX 92</td>\n",
       "      <td>HOSFORD</td>\n",
       "      <td>...</td>\n",
       "      <td>X</td>\n",
       "      <td>PC</td>\n",
       "      <td>RE</td>\n",
       "      <td>X</td>\n",
       "      <td>RE</td>\n",
       "      <td>O</td>\n",
       "      <td>RE</td>\n",
       "      <td>OT</td>\n",
       "      <td>N</td>\n",
       "      <td>N</td>\n",
       "    </tr>\n",
       "    <tr>\n",
       "      <td>3</td>\n",
       "      <td>490336</td>\n",
       "      <td>NaN</td>\n",
       "      <td>60</td>\n",
       "      <td>3</td>\n",
       "      <td>NaN</td>\n",
       "      <td>NaN</td>\n",
       "      <td>NaN</td>\n",
       "      <td>EASTSIDE BAPTIST CHURCH</td>\n",
       "      <td>PO BOX 296</td>\n",
       "      <td>LABELLE</td>\n",
       "      <td>...</td>\n",
       "      <td>X</td>\n",
       "      <td>PC</td>\n",
       "      <td>RE</td>\n",
       "      <td>X</td>\n",
       "      <td>RE</td>\n",
       "      <td>O</td>\n",
       "      <td>RE</td>\n",
       "      <td>OT</td>\n",
       "      <td>N</td>\n",
       "      <td>N</td>\n",
       "    </tr>\n",
       "    <tr>\n",
       "      <td>4</td>\n",
       "      <td>587764</td>\n",
       "      <td>NaN</td>\n",
       "      <td>60</td>\n",
       "      <td>3</td>\n",
       "      <td>NaN</td>\n",
       "      <td>NaN</td>\n",
       "      <td>NaN</td>\n",
       "      <td>IGLESIA BETHESDA INC</td>\n",
       "      <td>157 ANDOVER ST</td>\n",
       "      <td>LOWELL</td>\n",
       "      <td>...</td>\n",
       "      <td>X</td>\n",
       "      <td>PC</td>\n",
       "      <td>RE</td>\n",
       "      <td>X</td>\n",
       "      <td>RE</td>\n",
       "      <td>O</td>\n",
       "      <td>RE</td>\n",
       "      <td>OT</td>\n",
       "      <td>N</td>\n",
       "      <td>N</td>\n",
       "    </tr>\n",
       "  </tbody>\n",
       "</table>\n",
       "<p>5 rows × 40 columns</p>\n",
       "</div>"
      ],
      "text/plain": [
       "      EIN SEC_NAME  FRCD  SUBSECCD  TAXPER  ASSETS  INCOME  \\\n",
       "0   19818     3514    60         3     NaN     NaN     NaN   \n",
       "1   29215      NaN    60         3     NaN     NaN     NaN   \n",
       "2  260049      NaN    60         3     NaN     NaN     NaN   \n",
       "3  490336      NaN    60         3     NaN     NaN     NaN   \n",
       "4  587764      NaN    60         3     NaN     NaN     NaN   \n",
       "\n",
       "                           NAME            ADDRESS          CITY  ... LEVEL4  \\\n",
       "0  PALMER SECOND BAPTIST CHURCH  1050 THORNDIKE ST        PALMER  ...      X   \n",
       "1           ST GEORGE CATHEDRAL     523 E BROADWAY  SOUTH BOSTON  ...      X   \n",
       "2        CORINTH BAPTIST CHURCH          PO BOX 92       HOSFORD  ...      X   \n",
       "3       EASTSIDE BAPTIST CHURCH         PO BOX 296       LABELLE  ...      X   \n",
       "4          IGLESIA BETHESDA INC     157 ANDOVER ST        LOWELL  ...      X   \n",
       "\n",
       "  LEVEL1 NTMAJ10  MAJGRPB  LEVEL3 LEVEL2 NTMAJ12  NTMAJ5  FILER  ZFILER  \n",
       "0     PC      RE        X      RE      O      RE      OT      N       N  \n",
       "1     PC      RE        X      RE      O      RE      OT      N       N  \n",
       "2     PC      RE        X      RE      O      RE      OT      N       N  \n",
       "3     PC      RE        X      RE      O      RE      OT      N       N  \n",
       "4     PC      RE        X      RE      O      RE      OT      N       N  \n",
       "\n",
       "[5 rows x 40 columns]"
      ]
     },
     "execution_count": 14,
     "metadata": {},
     "output_type": "execute_result"
    }
   ],
   "source": [
    "gov_data.head()"
   ]
  },
  {
   "cell_type": "code",
   "execution_count": 15,
   "metadata": {},
   "outputs": [],
   "source": [
    "gov_data.dropna(axis=0, how='any', subset=[\"ASSETS\", \"INCOME\",\"LEVEL1\", \"NAME\", \"STATE\"], inplace=True)"
   ]
  },
  {
   "cell_type": "code",
   "execution_count": 16,
   "metadata": {},
   "outputs": [],
   "source": [
    "gov_data = gov_data[[\"EIN\",\"ASSETS\",\"INCOME\",\"NAME\",\"ADDRESS\",\"CITY\",\"STATE\",\"ZIP5\",\"LEVEL1\",\"LEVEL2\",\"LEVEL3\",\"LEVEL4\"]]"
   ]
  },
  {
   "cell_type": "code",
   "execution_count": 17,
   "metadata": {},
   "outputs": [
    {
     "data": {
      "text/html": [
       "<div>\n",
       "<style scoped>\n",
       "    .dataframe tbody tr th:only-of-type {\n",
       "        vertical-align: middle;\n",
       "    }\n",
       "\n",
       "    .dataframe tbody tr th {\n",
       "        vertical-align: top;\n",
       "    }\n",
       "\n",
       "    .dataframe thead th {\n",
       "        text-align: right;\n",
       "    }\n",
       "</style>\n",
       "<table border=\"1\" class=\"dataframe\">\n",
       "  <thead>\n",
       "    <tr style=\"text-align: right;\">\n",
       "      <th></th>\n",
       "      <th>EIN</th>\n",
       "      <th>ASSETS</th>\n",
       "      <th>INCOME</th>\n",
       "      <th>NAME</th>\n",
       "      <th>ADDRESS</th>\n",
       "      <th>CITY</th>\n",
       "      <th>STATE</th>\n",
       "      <th>ZIP5</th>\n",
       "      <th>LEVEL1</th>\n",
       "      <th>LEVEL2</th>\n",
       "      <th>LEVEL3</th>\n",
       "      <th>LEVEL4</th>\n",
       "    </tr>\n",
       "  </thead>\n",
       "  <tbody>\n",
       "    <tr>\n",
       "      <td>18</td>\n",
       "      <td>10002847</td>\n",
       "      <td>0.0</td>\n",
       "      <td>0.0</td>\n",
       "      <td>HULLS COVE NEIGHBORHOOD ASSOCIATION</td>\n",
       "      <td>PO BOX 126</td>\n",
       "      <td>HULLS COVE</td>\n",
       "      <td>ME</td>\n",
       "      <td>4644.0</td>\n",
       "      <td>PC</td>\n",
       "      <td>O</td>\n",
       "      <td>PB</td>\n",
       "      <td>S</td>\n",
       "    </tr>\n",
       "    <tr>\n",
       "      <td>19</td>\n",
       "      <td>10011694</td>\n",
       "      <td>0.0</td>\n",
       "      <td>0.0</td>\n",
       "      <td>MASSACHUSETTS MODERATORS ASSOCIATION</td>\n",
       "      <td>30 SAMUEL PRESCOTT DR</td>\n",
       "      <td>STOW</td>\n",
       "      <td>MA</td>\n",
       "      <td>1775.0</td>\n",
       "      <td>PC</td>\n",
       "      <td>O</td>\n",
       "      <td>PB</td>\n",
       "      <td>S</td>\n",
       "    </tr>\n",
       "    <tr>\n",
       "      <td>20</td>\n",
       "      <td>10015091</td>\n",
       "      <td>52489.0</td>\n",
       "      <td>107989.0</td>\n",
       "      <td>HANOVER SOCCER CLUB INC</td>\n",
       "      <td>PO BOX 13</td>\n",
       "      <td>CEDAR KNOLLS</td>\n",
       "      <td>NJ</td>\n",
       "      <td>7927.0</td>\n",
       "      <td>PC</td>\n",
       "      <td>O</td>\n",
       "      <td>HS</td>\n",
       "      <td>N</td>\n",
       "    </tr>\n",
       "    <tr>\n",
       "      <td>21</td>\n",
       "      <td>10017496</td>\n",
       "      <td>233819.0</td>\n",
       "      <td>180773.0</td>\n",
       "      <td>AGAMENTICUS YACHT CLUB OF YORK</td>\n",
       "      <td>PO BOX 534</td>\n",
       "      <td>YORK HARBOR</td>\n",
       "      <td>ME</td>\n",
       "      <td>3911.0</td>\n",
       "      <td>PC</td>\n",
       "      <td>O</td>\n",
       "      <td>HS</td>\n",
       "      <td>N</td>\n",
       "    </tr>\n",
       "    <tr>\n",
       "      <td>33</td>\n",
       "      <td>10024155</td>\n",
       "      <td>0.0</td>\n",
       "      <td>0.0</td>\n",
       "      <td>BANGOR BAND</td>\n",
       "      <td>647 MAIN STREET</td>\n",
       "      <td>BANGOR</td>\n",
       "      <td>ME</td>\n",
       "      <td>4401.0</td>\n",
       "      <td>PC</td>\n",
       "      <td>O</td>\n",
       "      <td>AR</td>\n",
       "      <td>A</td>\n",
       "    </tr>\n",
       "    <tr>\n",
       "      <td>...</td>\n",
       "      <td>...</td>\n",
       "      <td>...</td>\n",
       "      <td>...</td>\n",
       "      <td>...</td>\n",
       "      <td>...</td>\n",
       "      <td>...</td>\n",
       "      <td>...</td>\n",
       "      <td>...</td>\n",
       "      <td>...</td>\n",
       "      <td>...</td>\n",
       "      <td>...</td>\n",
       "      <td>...</td>\n",
       "    </tr>\n",
       "    <tr>\n",
       "      <td>1499443</td>\n",
       "      <td>996087839</td>\n",
       "      <td>10109.0</td>\n",
       "      <td>22000.0</td>\n",
       "      <td>KEIKI KOHOLA PROJECT</td>\n",
       "      <td>1330 SABAL LAKES RD</td>\n",
       "      <td>DELRAY BEACH</td>\n",
       "      <td>FL</td>\n",
       "      <td>93035.0</td>\n",
       "      <td>PF</td>\n",
       "      <td>S</td>\n",
       "      <td>PB</td>\n",
       "      <td>U</td>\n",
       "    </tr>\n",
       "    <tr>\n",
       "      <td>1499444</td>\n",
       "      <td>996088748</td>\n",
       "      <td>377564.0</td>\n",
       "      <td>64829.0</td>\n",
       "      <td>UNOYO KOJIMA TRUST</td>\n",
       "      <td>PO BOX 3170</td>\n",
       "      <td>HONOLULU</td>\n",
       "      <td>HI</td>\n",
       "      <td>96802.0</td>\n",
       "      <td>PF</td>\n",
       "      <td>S</td>\n",
       "      <td>ZC</td>\n",
       "      <td>T</td>\n",
       "    </tr>\n",
       "    <tr>\n",
       "      <td>1499445</td>\n",
       "      <td>996089401</td>\n",
       "      <td>670570.0</td>\n",
       "      <td>160467.0</td>\n",
       "      <td>TOYO SAKUMOTO CHARITABLE TR</td>\n",
       "      <td>PO BOX 3170</td>\n",
       "      <td>HONOLULU</td>\n",
       "      <td>HI</td>\n",
       "      <td>96802.0</td>\n",
       "      <td>PF</td>\n",
       "      <td>S</td>\n",
       "      <td>ZC</td>\n",
       "      <td>T</td>\n",
       "    </tr>\n",
       "    <tr>\n",
       "      <td>1499447</td>\n",
       "      <td>998010224</td>\n",
       "      <td>737906.0</td>\n",
       "      <td>177689.0</td>\n",
       "      <td>HAWAII FOUNDATION FOR THE BLIND</td>\n",
       "      <td>225 LILIUOKALANI AVE APT 5D</td>\n",
       "      <td>HONOLULU</td>\n",
       "      <td>HI</td>\n",
       "      <td>96815.0</td>\n",
       "      <td>PF</td>\n",
       "      <td>O</td>\n",
       "      <td>HS</td>\n",
       "      <td>P</td>\n",
       "    </tr>\n",
       "    <tr>\n",
       "      <td>1499448</td>\n",
       "      <td>998997790</td>\n",
       "      <td>0.0</td>\n",
       "      <td>0.0</td>\n",
       "      <td>CHAMPAIGN COUNTY EXTENSION EDUCATION FOUNDATION</td>\n",
       "      <td>1120 N WEBSTER ST</td>\n",
       "      <td>TAYLORVILLE</td>\n",
       "      <td>IL</td>\n",
       "      <td>62568.0</td>\n",
       "      <td>PC</td>\n",
       "      <td>S</td>\n",
       "      <td>ZA</td>\n",
       "      <td>B</td>\n",
       "    </tr>\n",
       "  </tbody>\n",
       "</table>\n",
       "<p>891408 rows × 12 columns</p>\n",
       "</div>"
      ],
      "text/plain": [
       "               EIN    ASSETS    INCOME  \\\n",
       "18        10002847       0.0       0.0   \n",
       "19        10011694       0.0       0.0   \n",
       "20        10015091   52489.0  107989.0   \n",
       "21        10017496  233819.0  180773.0   \n",
       "33        10024155       0.0       0.0   \n",
       "...            ...       ...       ...   \n",
       "1499443  996087839   10109.0   22000.0   \n",
       "1499444  996088748  377564.0   64829.0   \n",
       "1499445  996089401  670570.0  160467.0   \n",
       "1499447  998010224  737906.0  177689.0   \n",
       "1499448  998997790       0.0       0.0   \n",
       "\n",
       "                                                    NAME  \\\n",
       "18                   HULLS COVE NEIGHBORHOOD ASSOCIATION   \n",
       "19                  MASSACHUSETTS MODERATORS ASSOCIATION   \n",
       "20                               HANOVER SOCCER CLUB INC   \n",
       "21                        AGAMENTICUS YACHT CLUB OF YORK   \n",
       "33                                           BANGOR BAND   \n",
       "...                                                  ...   \n",
       "1499443                             KEIKI KOHOLA PROJECT   \n",
       "1499444                               UNOYO KOJIMA TRUST   \n",
       "1499445                      TOYO SAKUMOTO CHARITABLE TR   \n",
       "1499447                  HAWAII FOUNDATION FOR THE BLIND   \n",
       "1499448  CHAMPAIGN COUNTY EXTENSION EDUCATION FOUNDATION   \n",
       "\n",
       "                             ADDRESS          CITY STATE     ZIP5 LEVEL1  \\\n",
       "18                        PO BOX 126    HULLS COVE    ME   4644.0     PC   \n",
       "19             30 SAMUEL PRESCOTT DR          STOW    MA   1775.0     PC   \n",
       "20                         PO BOX 13  CEDAR KNOLLS    NJ   7927.0     PC   \n",
       "21                        PO BOX 534   YORK HARBOR    ME   3911.0     PC   \n",
       "33                   647 MAIN STREET        BANGOR    ME   4401.0     PC   \n",
       "...                              ...           ...   ...      ...    ...   \n",
       "1499443          1330 SABAL LAKES RD  DELRAY BEACH    FL  93035.0     PF   \n",
       "1499444                  PO BOX 3170      HONOLULU    HI  96802.0     PF   \n",
       "1499445                  PO BOX 3170      HONOLULU    HI  96802.0     PF   \n",
       "1499447  225 LILIUOKALANI AVE APT 5D      HONOLULU    HI  96815.0     PF   \n",
       "1499448            1120 N WEBSTER ST   TAYLORVILLE    IL  62568.0     PC   \n",
       "\n",
       "        LEVEL2 LEVEL3 LEVEL4  \n",
       "18           O     PB      S  \n",
       "19           O     PB      S  \n",
       "20           O     HS      N  \n",
       "21           O     HS      N  \n",
       "33           O     AR      A  \n",
       "...        ...    ...    ...  \n",
       "1499443      S     PB      U  \n",
       "1499444      S     ZC      T  \n",
       "1499445      S     ZC      T  \n",
       "1499447      O     HS      P  \n",
       "1499448      S     ZA      B  \n",
       "\n",
       "[891408 rows x 12 columns]"
      ]
     },
     "execution_count": 17,
     "metadata": {},
     "output_type": "execute_result"
    }
   ],
   "source": [
    "gov_data"
   ]
  },
  {
   "cell_type": "code",
   "execution_count": 18,
   "metadata": {},
   "outputs": [
    {
     "data": {
      "text/plain": [
       "EIN        891408\n",
       "ASSETS     891408\n",
       "INCOME     891408\n",
       "NAME       891408\n",
       "ADDRESS    891408\n",
       "CITY       891408\n",
       "STATE      891408\n",
       "ZIP5       891382\n",
       "LEVEL1     891408\n",
       "LEVEL2     891408\n",
       "LEVEL3     891408\n",
       "LEVEL4     891408\n",
       "dtype: int64"
      ]
     },
     "execution_count": 18,
     "metadata": {},
     "output_type": "execute_result"
    }
   ],
   "source": [
    "gov_data.count()"
   ]
  },
  {
   "cell_type": "code",
   "execution_count": 19,
   "metadata": {},
   "outputs": [
    {
     "data": {
      "text/html": [
       "<div>\n",
       "<style scoped>\n",
       "    .dataframe tbody tr th:only-of-type {\n",
       "        vertical-align: middle;\n",
       "    }\n",
       "\n",
       "    .dataframe tbody tr th {\n",
       "        vertical-align: top;\n",
       "    }\n",
       "\n",
       "    .dataframe thead th {\n",
       "        text-align: right;\n",
       "    }\n",
       "</style>\n",
       "<table border=\"1\" class=\"dataframe\">\n",
       "  <thead>\n",
       "    <tr style=\"text-align: right;\">\n",
       "      <th></th>\n",
       "      <th>EIN</th>\n",
       "      <th>ASSETS</th>\n",
       "      <th>INCOME</th>\n",
       "      <th>ZIP5</th>\n",
       "    </tr>\n",
       "  </thead>\n",
       "  <tbody>\n",
       "    <tr>\n",
       "      <td>count</td>\n",
       "      <td>8.914080e+05</td>\n",
       "      <td>8.914080e+05</td>\n",
       "      <td>8.914080e+05</td>\n",
       "      <td>891382.000000</td>\n",
       "    </tr>\n",
       "    <tr>\n",
       "      <td>mean</td>\n",
       "      <td>4.501007e+08</td>\n",
       "      <td>5.560271e+06</td>\n",
       "      <td>3.733421e+06</td>\n",
       "      <td>49563.756665</td>\n",
       "    </tr>\n",
       "    <tr>\n",
       "      <td>std</td>\n",
       "      <td>2.390812e+08</td>\n",
       "      <td>1.752903e+08</td>\n",
       "      <td>1.782037e+08</td>\n",
       "      <td>30230.675916</td>\n",
       "    </tr>\n",
       "    <tr>\n",
       "      <td>min</td>\n",
       "      <td>1.000285e+07</td>\n",
       "      <td>0.000000e+00</td>\n",
       "      <td>-3.050449e+07</td>\n",
       "      <td>0.000000</td>\n",
       "    </tr>\n",
       "    <tr>\n",
       "      <td>25%</td>\n",
       "      <td>2.631331e+08</td>\n",
       "      <td>0.000000e+00</td>\n",
       "      <td>0.000000e+00</td>\n",
       "      <td>22314.000000</td>\n",
       "    </tr>\n",
       "    <tr>\n",
       "      <td>50%</td>\n",
       "      <td>4.527022e+08</td>\n",
       "      <td>3.790000e+03</td>\n",
       "      <td>4.860000e+03</td>\n",
       "      <td>46904.000000</td>\n",
       "    </tr>\n",
       "    <tr>\n",
       "      <td>75%</td>\n",
       "      <td>5.825405e+08</td>\n",
       "      <td>2.846955e+05</td>\n",
       "      <td>1.976800e+05</td>\n",
       "      <td>77382.000000</td>\n",
       "    </tr>\n",
       "    <tr>\n",
       "      <td>max</td>\n",
       "      <td>9.989978e+08</td>\n",
       "      <td>5.207875e+10</td>\n",
       "      <td>7.235283e+10</td>\n",
       "      <td>99950.000000</td>\n",
       "    </tr>\n",
       "  </tbody>\n",
       "</table>\n",
       "</div>"
      ],
      "text/plain": [
       "                EIN        ASSETS        INCOME           ZIP5\n",
       "count  8.914080e+05  8.914080e+05  8.914080e+05  891382.000000\n",
       "mean   4.501007e+08  5.560271e+06  3.733421e+06   49563.756665\n",
       "std    2.390812e+08  1.752903e+08  1.782037e+08   30230.675916\n",
       "min    1.000285e+07  0.000000e+00 -3.050449e+07       0.000000\n",
       "25%    2.631331e+08  0.000000e+00  0.000000e+00   22314.000000\n",
       "50%    4.527022e+08  3.790000e+03  4.860000e+03   46904.000000\n",
       "75%    5.825405e+08  2.846955e+05  1.976800e+05   77382.000000\n",
       "max    9.989978e+08  5.207875e+10  7.235283e+10   99950.000000"
      ]
     },
     "execution_count": 19,
     "metadata": {},
     "output_type": "execute_result"
    }
   ],
   "source": [
    "gov_data.describe()"
   ]
  },
  {
   "cell_type": "code",
   "execution_count": 20,
   "metadata": {},
   "outputs": [
    {
     "data": {
      "text/plain": [
       "CA    98465\n",
       "TX    62551\n",
       "NY    62043\n",
       "FL    47986\n",
       "PA    37691\n",
       "      ...  \n",
       "MP       21\n",
       "AE       21\n",
       "FM        3\n",
       "PW        1\n",
       "AA        1\n",
       "Name: STATE, Length: 61, dtype: int64"
      ]
     },
     "execution_count": 20,
     "metadata": {},
     "output_type": "execute_result"
    }
   ],
   "source": [
    "gov_data[\"STATE\"].value_counts()"
   ]
  },
  {
   "cell_type": "code",
   "execution_count": null,
   "metadata": {},
   "outputs": [],
   "source": []
  },
  {
   "cell_type": "code",
   "execution_count": 21,
   "metadata": {},
   "outputs": [
    {
     "data": {
      "image/png": "[encoded data removed]",
      "text/plain": [
       "<Figure size 1152x576 with 1 Axes>"
      ]
     },
     "metadata": {
      "needs_background": "light"
     },
     "output_type": "display_data"
    }
   ],
   "source": [
    "# Plot Income vs State\n",
    "plt.figure(figsize=(16,8))\n",
    "plt.scatter(gov_data[\"STATE\"], gov_data[\"INCOME\"], c=\"b\", alpha=0.5)\n",
    "plt.title(f'State vs Income', size=14, weight='bold')\n",
    "plt.xlabel('State')\n",
    "plt.ylabel('Income')\n",
    "plt.xticks(rotation=90)\n",
    "#plt.xlim(lat_range)\n",
    "plt.grid(alpha=0.5)\n",
    "\n",
    "# Save the image\n",
    "#plt.savefig(\"../Images/LatvsTemperature.png\")\n",
    "plt.show()"
   ]
  },
  {
   "cell_type": "code",
   "execution_count": 22,
   "metadata": {},
   "outputs": [
    {
     "data": {
      "image/png": "[encoded data removed]",
      "text/plain": [
       "<Figure size 576x576 with 1 Axes>"
      ]
     },
     "metadata": {
      "needs_background": "light"
     },
     "output_type": "display_data"
    }
   ],
   "source": [
    "# Plot Income vs Assets\n",
    "plt.figure(figsize=(8,8))\n",
    "plt.scatter(gov_data[\"ASSETS\"], gov_data[\"INCOME\"], c=\"b\", alpha=0.5)\n",
    "plt.title(f'Assets vs Income', size=14, weight='bold')\n",
    "plt.xlabel('Assets')\n",
    "plt.ylabel('Income')\n",
    "#plt.xlim(lat_range)\n",
    "plt.grid(alpha=0.5)\n",
    "\n",
    "# Save the image\n",
    "#plt.savefig(\"../Images/LatvsTemperature.png\")\n",
    "plt.show()"
   ]
  },
  {
   "cell_type": "code",
   "execution_count": 23,
   "metadata": {},
   "outputs": [
    {
     "data": {
      "text/plain": [
       "18             Public Charity\n",
       "19             Public Charity\n",
       "20             Public Charity\n",
       "21             Public Charity\n",
       "33             Public Charity\n",
       "                  ...        \n",
       "1499443    Private Foundation\n",
       "1499444    Private Foundation\n",
       "1499445    Private Foundation\n",
       "1499447    Private Foundation\n",
       "1499448        Public Charity\n",
       "Name: LEVEL1, Length: 891408, dtype: object"
      ]
     },
     "execution_count": 23,
     "metadata": {},
     "output_type": "execute_result"
    }
   ],
   "source": [
    "x_labels1 = gov_data[\"LEVEL1\"].map(dict_Level1[\"Description1\"])\n",
    "x_labels1"
   ]
  },
  {
   "cell_type": "code",
   "execution_count": 24,
   "metadata": {},
   "outputs": [
    {
     "data": {
      "text/plain": [
       "18          Operating Public Charity\n",
       "19          Operating Public Charity\n",
       "20          Operating Public Charity\n",
       "21          Operating Public Charity\n",
       "33          Operating Public Charity\n",
       "                     ...            \n",
       "1499443    Supporting Public Charity\n",
       "1499444    Supporting Public Charity\n",
       "1499445    Supporting Public Charity\n",
       "1499447     Operating Public Charity\n",
       "1499448    Supporting Public Charity\n",
       "Name: LEVEL2, Length: 891408, dtype: object"
      ]
     },
     "execution_count": 24,
     "metadata": {},
     "output_type": "execute_result"
    }
   ],
   "source": [
    "x_labels2 = gov_data[\"LEVEL2\"].map(dict_Level2[\"Description2\"])\n",
    "x_labels2"
   ]
  },
  {
   "cell_type": "code",
   "execution_count": 25,
   "metadata": {},
   "outputs": [
    {
     "data": {
      "text/plain": [
       "18                Public, societal benefit\n",
       "19                Public, societal benefit\n",
       "20                          Human Services\n",
       "21                          Human Services\n",
       "33            Arts, culture and humanities\n",
       "                        ...               \n",
       "1499443           Public, societal benefit\n",
       "1499444    Private grantmaking foundations\n",
       "1499445    Private grantmaking foundations\n",
       "1499447                     Human Services\n",
       "1499448        Single organization support\n",
       "Name: LEVEL3, Length: 891408, dtype: object"
      ]
     },
     "execution_count": 25,
     "metadata": {},
     "output_type": "execute_result"
    }
   ],
   "source": [
    "x_labels3 = gov_data[\"LEVEL3\"].map(dict_Level3[\"Description3\"])\n",
    "x_labels3"
   ]
  },
  {
   "cell_type": "code",
   "execution_count": 26,
   "metadata": {},
   "outputs": [
    {
     "data": {
      "text/plain": [
       "18                  Community Improvement, Capacity Building\n",
       "19                  Community Improvement, Capacity Building\n",
       "20                    Recreation, Sports, Leisure, Athletics\n",
       "21                    Recreation, Sports, Leisure, Athletics\n",
       "33                             Arts, Culture, and Humanities\n",
       "                                 ...                        \n",
       "1499443    Science and Technology Research Institutes, Se...\n",
       "1499444    Philanthropy, Voluntarism, and Grantmaking Fou...\n",
       "1499445    Philanthropy, Voluntarism, and Grantmaking Fou...\n",
       "1499447              Human Services - Multipurpose and Other\n",
       "1499448                                            Education\n",
       "Name: LEVEL4, Length: 891408, dtype: object"
      ]
     },
     "execution_count": 26,
     "metadata": {},
     "output_type": "execute_result"
    }
   ],
   "source": [
    "x_labels4 = gov_data[\"LEVEL4\"].map(dict_Level4[\"Description4\"])\n",
    "x_labels4"
   ]
  },
  {
   "cell_type": "code",
   "execution_count": 27,
   "metadata": {},
   "outputs": [
    {
     "data": {
      "image/png": "[encoded data removed]",
      "text/plain": [
       "<Figure size 576x576 with 1 Axes>"
      ]
     },
     "metadata": {
      "needs_background": "light"
     },
     "output_type": "display_data"
    }
   ],
   "source": [
    "# Plot Income vs level1\n",
    "plt.figure(figsize=(8,8))\n",
    "plt.scatter(x_labels1, gov_data[\"INCOME\"], c=\"b\", alpha=0.5)\n",
    "plt.title(f'Level1 vs Income', size=14, weight='bold')\n",
    "plt.xlabel('Level1')\n",
    "plt.ylabel('Income')\n",
    "#plt.xlim(lat_range)\n",
    "plt.grid(alpha=0.5)\n",
    "\n",
    "# Save the image\n",
    "#plt.savefig(\"../Images/LatvsTemperature.png\")\n",
    "plt.show()"
   ]
  },
  {
   "cell_type": "code",
   "execution_count": 28,
   "metadata": {},
   "outputs": [
    {
     "data": {
      "image/png": "[encoded data removed]",
      "text/plain": [
       "<Figure size 576x576 with 1 Axes>"
      ]
     },
     "metadata": {
      "needs_background": "light"
     },
     "output_type": "display_data"
    }
   ],
   "source": [
    "# Plot Income vs level2\n",
    "plt.figure(figsize=(8,8))\n",
    "plt.scatter(x_labels2, gov_data[\"INCOME\"], c=\"b\", alpha=0.5)\n",
    "plt.title(f'Level2 vs Income', size=14, weight='bold')\n",
    "plt.xlabel('Level2')\n",
    "plt.ylabel('Income')\n",
    "#plt.xlim(lat_range)\n",
    "plt.grid(alpha=0.5)\n",
    "\n",
    "# Save the image\n",
    "#plt.savefig(\"../Images/LatvsTemperature.png\")\n",
    "plt.show()"
   ]
  },
  {
   "cell_type": "code",
   "execution_count": 29,
   "metadata": {},
   "outputs": [
    {
     "data": {
      "image/png": "[encoded data removed]",
      "text/plain": [
       "<Figure size 576x576 with 1 Axes>"
      ]
     },
     "metadata": {
      "needs_background": "light"
     },
     "output_type": "display_data"
    }
   ],
   "source": [
    "# Plot Income vs level3\n",
    "plt.figure(figsize=(8,8))\n",
    "plt.scatter(x_labels3, gov_data[\"INCOME\"], c=\"b\", alpha=0.5)\n",
    "plt.title(f'Level3 vs Income', size=14, weight='bold')\n",
    "plt.xlabel('Level3')\n",
    "plt.xticks(rotation=90)\n",
    "plt.ylabel('Income')\n",
    "#plt.xlim(lat_range)\n",
    "plt.grid(alpha=0.5)\n",
    "\n",
    "# Save the image\n",
    "#plt.savefig(\"../Images/LatvsTemperature.png\")\n",
    "plt.show()"
   ]
  },
  {
   "cell_type": "code",
   "execution_count": 30,
   "metadata": {},
   "outputs": [
    {
     "name": "stderr",
     "output_type": "stream",
     "text": [
      "C:\\Users\\katro\\Anaconda3\\envs\\PythonData\\lib\\site-packages\\matplotlib\\backends\\backend_agg.py:211: RuntimeWarning: Glyph 9 missing from current font.\n",
      "  font.set_text(s, 0.0, flags=flags)\n",
      "C:\\Users\\katro\\Anaconda3\\envs\\PythonData\\lib\\site-packages\\matplotlib\\backends\\backend_agg.py:180: RuntimeWarning: Glyph 9 missing from current font.\n",
      "  font.set_text(s, 0, flags=flags)\n"
     ]
    },
    {
     "data": {
      "image/png": "[encoded data removed]",
      "text/plain": [
       "<Figure size 576x576 with 1 Axes>"
      ]
     },
     "metadata": {
      "needs_background": "light"
     },
     "output_type": "display_data"
    }
   ],
   "source": [
    "# Plot Income vs level4\n",
    "plt.figure(figsize=(8,8))\n",
    "plt.scatter(x_labels4, gov_data[\"INCOME\"], c=\"b\", alpha=0.5)\n",
    "plt.title(f'Level4 vs Income', size=14, weight='bold')\n",
    "plt.xlabel('Level4')\n",
    "plt.xticks(rotation=90)\n",
    "plt.ylabel('Income')\n",
    "#plt.xlim(lat_range)\n",
    "plt.grid(alpha=0.5)\n",
    "\n",
    "# Save the image\n",
    "#plt.savefig(\"../Images/LatvsTemperature.png\")\n",
    "plt.show()"
   ]
  },
  {
   "cell_type": "code",
   "execution_count": 31,
   "metadata": {},
   "outputs": [
    {
     "data": {
      "image/png": "[encoded data removed]",
      "text/plain": [
       "<Figure size 576x576 with 1 Axes>"
      ]
     },
     "metadata": {
      "needs_background": "light"
     },
     "output_type": "display_data"
    }
   ],
   "source": [
    "# Plot Assets vs level1\n",
    "plt.figure(figsize=(8,8))\n",
    "plt.scatter(x_labels1, gov_data[\"ASSETS\"], c=\"b\", alpha=0.5)\n",
    "plt.title(f'Level1 vs Assets', size=14, weight='bold')\n",
    "plt.xlabel('Level1')\n",
    "plt.ylabel('Assets')\n",
    "#plt.xlim(lat_range)\n",
    "plt.grid(alpha=0.5)\n",
    "\n",
    "# Save the image\n",
    "#plt.savefig(\"../Images/LatvsTemperature.png\")\n",
    "plt.show()"
   ]
  },
  {
   "cell_type": "code",
   "execution_count": 32,
   "metadata": {},
   "outputs": [
    {
     "data": {
      "image/png": "[encoded data removed]",
      "text/plain": [
       "<Figure size 576x576 with 1 Axes>"
      ]
     },
     "metadata": {
      "needs_background": "light"
     },
     "output_type": "display_data"
    }
   ],
   "source": [
    "# Plot Income vs level2\n",
    "plt.figure(figsize=(8,8))\n",
    "plt.scatter(x_labels2, gov_data[\"ASSETS\"], c=\"b\", alpha=0.5)\n",
    "plt.title(f'Level2 vs Assets', size=14, weight='bold')\n",
    "plt.xlabel('Level2')\n",
    "plt.ylabel('Assets')\n",
    "#plt.xlim(lat_range)\n",
    "plt.grid(alpha=0.5)\n",
    "\n",
    "# Save the image\n",
    "#plt.savefig(\"../Images/LatvsTemperature.png\")\n",
    "plt.show()"
   ]
  },
  {
   "cell_type": "code",
   "execution_count": 33,
   "metadata": {},
   "outputs": [
    {
     "data": {
      "image/png": "[encoded data removed]",
      "text/plain": [
       "<Figure size 576x576 with 1 Axes>"
      ]
     },
     "metadata": {
      "needs_background": "light"
     },
     "output_type": "display_data"
    }
   ],
   "source": [
    "# Plot Income vs level3\n",
    "plt.figure(figsize=(8,8))\n",
    "plt.scatter(x_labels3, gov_data[\"ASSETS\"], c=\"b\", alpha=0.5)\n",
    "plt.title(f'Level3 vs Assets', size=14, weight='bold')\n",
    "plt.xlabel('Level3')\n",
    "plt.xticks(rotation=90)\n",
    "plt.ylabel('Assets')\n",
    "#plt.xlim(lat_range)\n",
    "plt.grid(alpha=0.5)\n",
    "\n",
    "# Save the image\n",
    "#plt.savefig(\"../Images/LatvsTemperature.png\")\n",
    "plt.show()"
   ]
  },
  {
   "cell_type": "code",
   "execution_count": 34,
   "metadata": {},
   "outputs": [
    {
     "data": {
      "image/png": "[encoded data removed]",
      "text/plain": [
       "<Figure size 576x576 with 1 Axes>"
      ]
     },
     "metadata": {
      "needs_background": "light"
     },
     "output_type": "display_data"
    }
   ],
   "source": [
    "# Plot Income vs level4\n",
    "plt.figure(figsize=(8,8))\n",
    "plt.scatter(x_labels4, gov_data[\"ASSETS\"], c=\"b\", alpha=0.5)\n",
    "plt.title(f'Level4 vs Assets', size=14, weight='bold')\n",
    "plt.xlabel('Level4')\n",
    "plt.xticks(rotation=90)\n",
    "plt.ylabel('Assets')\n",
    "#plt.xlim(lat_range)\n",
    "plt.grid(alpha=0.5)\n",
    "\n",
    "# Save the image\n",
    "#plt.savefig(\"../Images/LatvsTemperature.png\")\n",
    "plt.show()"
   ]
  },
  {
   "cell_type": "code",
   "execution_count": 35,
   "metadata": {},
   "outputs": [
    {
     "data": {
      "text/plain": [
       "count    2.691000e+03\n",
       "mean     2.121791e+06\n",
       "std      1.853430e+07\n",
       "min      0.000000e+00\n",
       "25%      0.000000e+00\n",
       "50%      0.000000e+00\n",
       "75%      8.023050e+04\n",
       "max      4.340227e+08\n",
       "Name: INCOME, dtype: float64"
      ]
     },
     "execution_count": 35,
     "metadata": {},
     "output_type": "execute_result"
    }
   ],
   "source": [
    "value1 = gov_data.loc[(gov_data[\"LEVEL3\"] == \"MO\"), [\"ASSETS\", \"INCOME\"]][\"INCOME\"]\n",
    "value1\n",
    "value1.describe()"
   ]
  },
  {
   "cell_type": "code",
   "execution_count": 36,
   "metadata": {},
   "outputs": [
    {
     "data": {
      "text/plain": [
       "count    4.188400e+04\n",
       "mean     6.195591e+05\n",
       "std      7.824603e+06\n",
       "min     -5.300000e+01\n",
       "25%      0.000000e+00\n",
       "50%      0.000000e+00\n",
       "75%      1.133168e+05\n",
       "max      7.751803e+08\n",
       "Name: INCOME, dtype: float64"
      ]
     },
     "execution_count": 36,
     "metadata": {},
     "output_type": "execute_result"
    }
   ],
   "source": [
    "value2 = gov_data.loc[(gov_data[\"LEVEL3\"] == \"EN\"), [\"ASSETS\", \"INCOME\"]][\"INCOME\"]\n",
    "type(value2)\n",
    "value2.describe()"
   ]
  },
  {
   "cell_type": "code",
   "execution_count": 37,
   "metadata": {},
   "outputs": [
    {
     "data": {
      "image/png": "[encoded data removed]",
      "text/plain": [
       "<Figure size 432x288 with 1 Axes>"
      ]
     },
     "metadata": {
      "needs_background": "light"
     },
     "output_type": "display_data"
    }
   ],
   "source": [
    "box_plot_data=[value1,value2]\n",
    "plt.boxplot(box_plot_data)\n",
    "plt.show()"
   ]
  },
  {
   "cell_type": "code",
   "execution_count": 38,
   "metadata": {},
   "outputs": [
    {
     "data": {
      "text/plain": [
       "<matplotlib.axes._subplots.AxesSubplot at 0x233f4e65748>"
      ]
     },
     "execution_count": 38,
     "metadata": {},
     "output_type": "execute_result"
    },
    {
     "data": {
      "image/png": "[encoded data removed]",
      "text/plain": [
       "<Figure size 1440x720 with 1 Axes>"
      ]
     },
     "metadata": {
      "needs_background": "light"
     },
     "output_type": "display_data"
    }
   ],
   "source": [
    "gov_data.boxplot(\"INCOME\", by=\"LEVEL1\", figsize=(20, 10))"
   ]
  },
  {
   "cell_type": "code",
   "execution_count": 39,
   "metadata": {},
   "outputs": [
    {
     "data": {
      "text/plain": [
       "F_onewayResult(statistic=72.91191021889728, pvalue=1.397796316084028e-17)"
      ]
     },
     "execution_count": 39,
     "metadata": {},
     "output_type": "execute_result"
    }
   ],
   "source": [
    "stats.f_oneway(value1, value2)"
   ]
  },
  {
   "cell_type": "code",
   "execution_count": 40,
   "metadata": {},
   "outputs": [
    {
     "data": {
      "text/plain": [
       "<matplotlib.axes._subplots.AxesSubplot at 0x233f5060128>"
      ]
     },
     "execution_count": 40,
     "metadata": {},
     "output_type": "execute_result"
    },
    {
     "data": {
      "image/png": "[encoded data removed]",
      "text/plain": [
       "<Figure size 1440x720 with 1 Axes>"
      ]
     },
     "metadata": {
      "needs_background": "light"
     },
     "output_type": "display_data"
    }
   ],
   "source": [
    "gov_data.boxplot(\"INCOME\", by=\"LEVEL2\", figsize=(20, 10))"
   ]
  },
  {
   "cell_type": "code",
   "execution_count": 41,
   "metadata": {},
   "outputs": [
    {
     "data": {
      "text/plain": [
       "F_onewayResult(statistic=0.9425877630287551, pvalue=0.38961867846674714)"
      ]
     },
     "execution_count": 41,
     "metadata": {},
     "output_type": "execute_result"
    }
   ],
   "source": [
    "stats.f_oneway(gov_data[gov_data[\"LEVEL2\"] == \"M\"][\"INCOME\"], \n",
    "               gov_data[gov_data[\"LEVEL2\"] == \"O\"][\"INCOME\"],\n",
    "              gov_data[gov_data[\"LEVEL2\"] == \"S\"][\"INCOME\"])"
   ]
  },
  {
   "cell_type": "code",
   "execution_count": null,
   "metadata": {},
   "outputs": [],
   "source": []
  },
  {
   "cell_type": "code",
   "execution_count": 42,
   "metadata": {},
   "outputs": [],
   "source": [
    "gov_data.to_csv(index=False, path_or_buf=\"gov_data.csv\")"
   ]
  },
  {
   "cell_type": "code",
   "execution_count": null,
   "metadata": {},
   "outputs": [],
   "source": []
  },
  {
   "cell_type": "code",
   "execution_count": null,
   "metadata": {},
   "outputs": [],
   "source": []
  },
  {
   "cell_type": "code",
   "execution_count": null,
   "metadata": {},
   "outputs": [],
   "source": []
  }
 ],
 "metadata": {
  "kernelspec": {
   "display_name": "Python 3",
   "language": "python",
   "name": "python3"
  },
  "language_info": {
   "codemirror_mode": {
    "name": "ipython",
    "version": 3
   },
   "file_extension": ".py",
   "mimetype": "text/x-python",
   "name": "python",
   "nbconvert_exporter": "python",
   "pygments_lexer": "ipython3",
   "version": "3.6.9"
  }
 },
 "nbformat": 4,
 "nbformat_minor": 2
}
