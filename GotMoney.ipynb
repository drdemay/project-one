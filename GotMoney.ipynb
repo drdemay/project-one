{
 "cells": [
  {
   "cell_type": "markdown",
   "metadata": {},
   "source": [
    "# Import Python Libraries\n",
    "## Libraries Used\n",
    "##### Pandas\n",
    "Data manipulation and analysis\n",
    "##### MatPlotLib Pyplot\n",
    "2D plotting\n",
    "##### Numpy\n",
    "Supports large, multi-dimensional arrays and matrix manipulation and high level mathematical functions on these arrays\n",
    "##### Scipy Stats\n",
    "Hypothesis testing"
   ]
  },
  {
   "cell_type": "code",
   "execution_count": null,
   "metadata": {},
   "outputs": [],
   "source": [
    "# Perform library imports\n",
    "import pandas as pd\n",
    "import matplotlib.pyplot as plt\n",
    "import numpy as np\n",
    "import scipy.stats as stats"
   ]
  },
  {
   "cell_type": "markdown",
   "metadata": {},
   "source": [
    "### Import Data Dictionaries to Convert Codes to Descriptions\n",
    "\n",
    "##### Sources\n",
    "\n",
    "Non-Profit Data - NCSS Data Archive:  https://nccs-data.urban.org/dd2.php?close=1&form=BMF+08/2016\n",
    "\n",
    "Region Data - ...\n",
    "\n",
    "##### Non-Profit Method\n",
    "* Created text files in json format within Visual Studio for each Data Dictionary\n",
    "* Saved files to Resources folder\n",
    "* Used pandas library to read the files into dataframes"
   ]
  },
  {
   "cell_type": "code",
   "execution_count": null,
   "metadata": {},
   "outputs": [],
   "source": [
    "# Import Level1 Data Dictionary and display : NOTE - This is only a break out of Public Charities\n",
    "file_Level1 = \"./Resources/NCSSDataDictLevel1.txt\"\n",
    "dict_Level1 = pd.read_json(file_Level1)\n",
    "dict_Level1"
   ]
  },
  {
   "cell_type": "markdown",
   "metadata": {},
   "source": [
    "### Import IRS Business Master Files\n",
    "\n",
    "##### Source\n",
    "NCSS Data Archive\n",
    "https://nccs-data.urban.org/data.php?ds=bmf\n",
    "\n",
    "##### File\n",
    "bmf.bm1812.csv"
   ]
  },
  {
   "cell_type": "code",
   "execution_count": null,
   "metadata": {},
   "outputs": [],
   "source": [
    "# specify file name\n",
    "gov_data_file = \"../../bookish-lamp/2018_BMF.csv\"\n",
    "\n",
    "# import file\n",
    "gov_data = pd.read_csv(gov_data_file, low_memory=False)\n",
    "\n",
    "# Display resulting dataframe header\n",
    "gov_data.head()"
   ]
  },
  {
   "cell_type": "markdown",
   "metadata": {},
   "source": [
    "# Data Cleaning Phase\n",
    "#### Review Raw Data and Eliminate Data not Required for Analysis and Junk Data\n",
    "* IMPORTANT:  Read data dictionary and determine if some rows should be eliminated in step 1\n",
    "  - TAXPER ending tax period for financial data - do we know these are all the same?  Do we care?\n",
    "  - Out of Scope Flag - do we only want in scope data?\n",
    "  - Reason why out of scope - do we care?\n",
    "  - Filer: 99 filing w/in 2 years yes or no\n",
    "  - ZFiler:  990 filing 0 dollars inc/assets w/in 2 years?\n",
    "  - Etc.. need to review all codes and determine if some data should be removed by code (rows) first\n",
    "* Remove unwanted columns - Do this step next to avoid deleting a row where one of the un-needed columns has invalid data and the columns needed have valid data\n",
    "* Determine how many values in each column\n",
    "* Remove NaN or missing values\n",
    "* Removed unwanted rows (States that do not map to a region, Level1 O or U types)\n",
    "* Other?\n",
    "\n",
    "Questions\n",
    "* Should we be using cTotRev and cAssets fields instead of ASSETS and INCOME?  The c fields are NCCS Financial Information, the two used so far are from Basic Info.  Are these the same?"
   ]
  },
  {
   "cell_type": "code",
   "execution_count": null,
   "metadata": {},
   "outputs": [],
   "source": [
    "# Select only the columns of data we need for analysis\n",
    "gov_data = gov_data[[\"EIN\",\"ASSETS\",\"INCOME\",\"NAME\",\"STATE\",\"LEVEL1\"]]"
   ]
  },
  {
   "cell_type": "code",
   "execution_count": null,
   "metadata": {},
   "outputs": [],
   "source": [
    "# check the number of data rows per column\n",
    "gov_data.count()"
   ]
  },
  {
   "cell_type": "code",
   "execution_count": null,
   "metadata": {},
   "outputs": [],
   "source": [
    "# display the data read in\n",
    "gov_data"
   ]
  },
  {
   "cell_type": "code",
   "execution_count": null,
   "metadata": {},
   "outputs": [],
   "source": [
    "# drop invalid rows and display\n",
    "gov_data.dropna(axis=0, how='any', inplace=True)\n",
    "gov_data"
   ]
  },
  {
   "cell_type": "code",
   "execution_count": null,
   "metadata": {},
   "outputs": [],
   "source": [
    "# Determine if rows are even yet\n",
    "gov_data.count()"
   ]
  },
  {
   "cell_type": "code",
   "execution_count": null,
   "metadata": {},
   "outputs": [],
   "source": [
    "# identify the indices of rows we want to eliminate and display how many rows are found\n",
    "indexNames = gov_data[gov_data[\"LEVEL1\"]==\"O\"].index\n",
    "len(indexNames)"
   ]
  },
  {
   "cell_type": "code",
   "execution_count": null,
   "metadata": {},
   "outputs": [],
   "source": [
    "# drop the rows identified and show the resulting dataframe\n",
    "gov_data.drop(indexNames, inplace=True)\n",
    "gov_data.head()"
   ]
  },
  {
   "cell_type": "code",
   "execution_count": null,
   "metadata": {},
   "outputs": [],
   "source": [
    "# identify the indices of rows we want to eliminate and display how many rows\n",
    "indexNames = gov_data[gov_data[\"LEVEL1\"]==\"U\"].index\n",
    "len(indexNames)"
   ]
  },
  {
   "cell_type": "code",
   "execution_count": null,
   "metadata": {},
   "outputs": [],
   "source": [
    "# drop the rows identified and show the resulting dataframe\n",
    "gov_data.drop(indexNames, inplace=True)\n",
    "gov_data.head()"
   ]
  },
  {
   "cell_type": "code",
   "execution_count": null,
   "metadata": {},
   "outputs": [],
   "source": [
    "# Determine the remaining count of rows and ensure our data set is full (no uneven row counts)\n",
    "gov_data.count()"
   ]
  },
  {
   "cell_type": "markdown",
   "metadata": {},
   "source": [
    "# Review Basic Statistics of the Remaining Data\n",
    "* Run basic statistics on the numeric columns\n"
   ]
  },
  {
   "cell_type": "code",
   "execution_count": null,
   "metadata": {},
   "outputs": [],
   "source": [
    "gov_data.describe()"
   ]
  },
  {
   "cell_type": "markdown",
   "metadata": {},
   "source": [
    "# Create a copy of our dataset at the State Level"
   ]
  },
  {
   "cell_type": "code",
   "execution_count": null,
   "metadata": {},
   "outputs": [],
   "source": [
    "# Create a copy of our data at the State Level\n",
    "state_level1 = gov_data.copy()\n",
    "state_level1"
   ]
  },
  {
   "cell_type": "markdown",
   "metadata": {},
   "source": [
    "# Apply Region Data to the dataset\n",
    " \n",
    "*\n"
   ]
  },
  {
   "cell_type": "code",
   "execution_count": null,
   "metadata": {},
   "outputs": [],
   "source": []
  },
  {
   "cell_type": "markdown",
   "metadata": {},
   "source": [
    "# Map Level 1 Labels (demo) and Save gov_data file (cleaned)"
   ]
  },
  {
   "cell_type": "code",
   "execution_count": null,
   "metadata": {},
   "outputs": [],
   "source": [
    "x_labels1 = gov_data[\"LEVEL1\"].map(dict_Level1[\"Description1\"])\n",
    "x_labels1\n",
    "\n",
    "gov_data.to_csv(index=False, path_or_buf=\"./Output/gov_data.csv\")"
   ]
  },
  {
   "cell_type": "markdown",
   "metadata": {},
   "source": [
    "# Calculate Statistics by Region: Public Charity vs Private Foundation\n",
    "* Calculate count, median, mean, min, max, sem"
   ]
  },
  {
   "cell_type": "code",
   "execution_count": null,
   "metadata": {},
   "outputs": [],
   "source": [
    "# Create a dataframe that contains statistics about Income and Assets by State and Public Charity vs Private Foundation\n",
    "state_level1 = state_level1.groupby([\"STATE\", \"LEVEL1\"], as_index=False).aggregate(\n",
    "    {\n",
    "        \"INCOME\":[\"mean\", \"sem\", \"count\", \"min\", \"max\", \"median\"],\n",
    "        \"ASSETS\":[\"mean\", \"sem\", \"count\", \"min\", \"max\", \"median\"]\n",
    "    }\n",
    ")\n",
    "# Display the resulting dataframe\n",
    "state_level1"
   ]
  },
  {
   "cell_type": "markdown",
   "metadata": {},
   "source": [
    "# Remove any invalid rows (missing data or NaN)"
   ]
  },
  {
   "cell_type": "code",
   "execution_count": null,
   "metadata": {},
   "outputs": [],
   "source": [
    "# Remove invalid rows and display\n",
    "state_level1.dropna(axis=0, how='any', inplace=True)\n",
    "state_level1"
   ]
  },
  {
   "cell_type": "markdown",
   "metadata": {},
   "source": [
    "# Create Two Dataframes by Region:  Public Charities, Private Foundations"
   ]
  },
  {
   "cell_type": "code",
   "execution_count": null,
   "metadata": {},
   "outputs": [],
   "source": [
    "# Create a dataframe for Public Charities\n",
    "state_PC = state_level1[state_level1[\"LEVEL1\"] == \"PC\"]\n",
    "state_PC = state_PC.set_index(\"STATE\")\n",
    "state_PC.head()"
   ]
  },
  {
   "cell_type": "code",
   "execution_count": null,
   "metadata": {},
   "outputs": [],
   "source": [
    "# Create a dataframe for Private Foundations\n",
    "state_PF = state_level1[state_level1[\"LEVEL1\"] == \"PF\"]\n",
    "state_PF = state_PF.set_index(\"STATE\")\n",
    "state_PF.head()"
   ]
  },
  {
   "cell_type": "code",
   "execution_count": null,
   "metadata": {},
   "outputs": [],
   "source": [
    "# Plot Median Income vs Median Assets per State\n",
    "plt.figure(figsize=(8,8))\n",
    "plt.scatter(state_PC[\"ASSETS\"][\"median\"], state_PC[\"INCOME\"][\"median\"], c=\"b\", marker='o', alpha=0.5, label=\"Public Charity\")\n",
    "plt.scatter(state_PF[\"ASSETS\"][\"median\"], state_PF[\"INCOME\"][\"median\"], c=\"g\", marker='x', alpha=0.5, label=\"Private Foundation\")\n",
    "plt.title(f'Median Assets vs Median Income per State', size=16, weight='bold')\n",
    "plt.xlabel('Median Assets ($)')\n",
    "plt.ylabel('Median Income ($)')\n",
    "plt.grid(alpha=0.5)\n",
    "plt.legend(loc=\"best\")\n",
    "\n",
    "# Save the image\n",
    "plt.savefig(\"./Images/MedianAssetsvsMedianIncomebyState.png\")\n",
    "plt.show()"
   ]
  },
  {
   "cell_type": "markdown",
   "metadata": {},
   "source": [
    "# Check Null Hypothesis\n",
    "1) All states have the same number of Non-Profit Organizations (Public Charities & Private Foundations Total)\n",
    "\n",
    "2) Median Income is the same for Public Charities and Private Foundations by State\n",
    "\n",
    "3) Median Assets is the same for Public Charities and Private Foundations by State\n",
    "\n",
    "4) Non-Profit count is the same for Public Charities and Private Foundations by State"
   ]
  },
  {
   "cell_type": "markdown",
   "metadata": {},
   "source": [
    "# Create a function for repetitive testing\n",
    "This function will do the following with two populations of data:\n",
    "* Create a scatter plot\n",
    "* Create a histogram\n",
    "* Run a Student t-test with unequal variance\n",
    "* Run an ANOVA"
   ]
  },
  {
   "cell_type": "code",
   "execution_count": null,
   "metadata": {},
   "outputs": [],
   "source": [
    "# Function to plot two populations\n",
    "def displayData(index1, index2, population1, population2, label1, label2, title, xlabel, ylabel):\n",
    "    \n",
    "    # set the figure size\n",
    "    plt.figure(figsize=(20,8))\n",
    "\n",
    "    # Scatter Plot of Data\n",
    "    plt.subplot(2,1,1)\n",
    "    plt.scatter(index1, population1, marker='o', color='b', label=label1)\n",
    "    plt.scatter(index2, population2, marker='x', color='g', label=label2)\n",
    "    plt.title(title,color='k', size=14, weight='bold')\n",
    "    plt.xlabel(xlabel)\n",
    "    plt.ylabel(ylabel)\n",
    "    plt.legend(loc=\"best\")\n",
    "    plt.grid(alpha=0.5)\n",
    "    \n",
    "    # Historgram Plot of Data\n",
    "    plt.subplot(2, 1, 2)\n",
    "    plt.hist(population1, 10, density=True, alpha=0.7, color='b', label=label1)\n",
    "    plt.hist(population2, 10, density=True, alpha=0.7, color='g', label=label2)\n",
    "    plt.axvline(population1.mean(), color='b', linestyle='dashed', linewidth=2)\n",
    "    plt.axvline(population2.mean(), color='g', linestyle='dashed', linewidth=2)\n",
    "    plt.xlabel(ylabel)\n",
    "    plt.ylabel(\"Frequency\")\n",
    "    plt.legend(loc=\"best\")\n",
    "    plt.grid(alpha=0.5)\n",
    "    \n",
    "    # Save the Figure\n",
    "    plt.savefig(\"./Images/\" + title.replace(\" \", \"\") + \".png\")\n",
    "    \n",
    "    # Student t-test\n",
    "    print('\\033[1m' + \"Student t-test with unequal variance\" + '\\033[0m')\n",
    "    print(stats.ttest_ind(population1, population2, equal_var=False))\n",
    "    \n",
    "    # ANOVA test\n",
    "    print('\\033[1m' + '\\nANOVA test' + '\\033[0m')\n",
    "    print(stats.f_oneway(population1, population2))\n",
    "    \n",
    "    return"
   ]
  },
  {
   "cell_type": "markdown",
   "metadata": {},
   "source": [
    "# Null Hypothesis 1:  All states have the same number of Non-Profit Organizations\n",
    "#### Where\n",
    "Non-Profit in scope = Public Charities & Private Foundations"
   ]
  },
  {
   "cell_type": "code",
   "execution_count": null,
   "metadata": {},
   "outputs": [],
   "source": [
    "# Test with a Chi-square\n",
    "stats.chisquare(gov_data[\"STATE\"].value_counts())"
   ]
  },
  {
   "cell_type": "markdown",
   "metadata": {},
   "source": [
    "#### False:  All states do not have the same number of Non-Profit Organizations."
   ]
  },
  {
   "cell_type": "markdown",
   "metadata": {},
   "source": [
    "# Null Hypothesis 2:  Median Income is the same for Public Charities and Private Foundations by State"
   ]
  },
  {
   "cell_type": "code",
   "execution_count": null,
   "metadata": {},
   "outputs": [],
   "source": [
    "# Using the dataframes by State and type of Non-Profit, run tests\n",
    "displayData(state_PC.index, state_PF.index, state_PC[\"INCOME\"][\"median\"], state_PF[\"INCOME\"][\"median\"],\n",
    "            \"Public Charity\", \"Private Foundation\", \"Median Income by State\", \"State\", \"Median Income ($)\")"
   ]
  },
  {
   "cell_type": "markdown",
   "metadata": {},
   "source": [
    "# Null Hypothesis 3:  Median Assets are the same for Public Charities and Private Foundations by State"
   ]
  },
  {
   "cell_type": "code",
   "execution_count": null,
   "metadata": {
    "scrolled": true
   },
   "outputs": [],
   "source": [
    "# Using the dataframes by State and type of Non-Profit, run tests\n",
    "displayData(state_PC.index, state_PF.index, state_PC[\"ASSETS\"][\"median\"], state_PF[\"ASSETS\"][\"median\"],\n",
    "            \"Public Charity\", \"Private Foundation\", \"Median Assets by State\", \"State\", \"Median Assets ($)\")"
   ]
  },
  {
   "cell_type": "markdown",
   "metadata": {},
   "source": [
    "# Null Hypothesis 4:  Non-Profit count is the same for Public Charities and Private Foundations by State"
   ]
  },
  {
   "cell_type": "code",
   "execution_count": null,
   "metadata": {
    "scrolled": true
   },
   "outputs": [],
   "source": [
    "# Using the dataframes by State and type of Non-Profit, run tests\n",
    "displayData(state_PC.index, state_PF.index, state_PC[\"ASSETS\"][\"count\"], state_PF[\"ASSETS\"][\"count\"],\n",
    "            \"Public Charity\", \"Private Foundation\", \"Count of Non-Profits by State\", \"State\", \"Count of Non-Profits\")"
   ]
  },
  {
   "cell_type": "code",
   "execution_count": null,
   "metadata": {},
   "outputs": [],
   "source": []
  }
 ],
 "metadata": {
  "kernelspec": {
   "display_name": "Python 3",
   "language": "python",
   "name": "python3"
  },
  "language_info": {
   "codemirror_mode": {
    "name": "ipython",
    "version": 3
   },
   "file_extension": ".py",
   "mimetype": "text/x-python",
   "name": "python",
   "nbconvert_exporter": "python",
   "pygments_lexer": "ipython3",
   "version": "3.6.9"
  }
 },
 "nbformat": 4,
 "nbformat_minor": 2
}
