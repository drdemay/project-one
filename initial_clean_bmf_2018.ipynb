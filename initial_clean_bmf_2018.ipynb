{
 "cells": [
  {
   "cell_type": "code",
   "execution_count": null,
   "metadata": {},
   "outputs": [],
   "source": [
    "# limit the data\n",
    "import pandas as pd\n",
    "import numpy as np\n"
   ]
  },
  {
   "cell_type": "code",
   "execution_count": null,
   "metadata": {},
   "outputs": [],
   "source": [
    "## THIS FILE IS NOT ON GIT HUB, too big and I moved it out of my project folder so my pushes wouldn't break. Only the smaller file is there.\n",
    "# However, if you properly read in a file you want to modify, the code below will work.\n",
    "\n",
    "# gov_data = \"Resources/2018_bmf.csv\"\n",
    "# df_gov_data=pd.read_csv(gov_data)\n",
    "\n",
    "# FAILED ATTEMPTS TO CHANGE DATATYPES, BUT FILE WAS READABLE ANYWAY SO I MOVED ON.\n",
    "# df_gov_data[' ASSETS ']=pd.to_numeric(df_gov_data[' ASSETS '])\n",
    "# df_gov_data[' INCOME ']=pd.to_numeric(df_gov_data[' INCOME '])\n",
    "# #df_gov_data['STATE'] = df_gov_data.STATE.astype(str)\n",
    "\n",
    "\n",
    "### WE DO GET THE WARNING FOR MIXED TYPES IN COLUMNS 5,6,11 but we can still read the data and save back into csv for now. \n",
    "# C:\\Users\\bthch\\Anaconda3\\envs\\PythonData\\lib\\site-packages\\IPython\\core\\interactiveshell.py:3058: DtypeWarning: Columns (5,6,11) have mixed types. Specify dtype option on import or set low_memory=False.\n",
    "#   interactivity=interactivity, compiler=compiler, result=result)"
   ]
  },
  {
   "cell_type": "code",
   "execution_count": null,
   "metadata": {},
   "outputs": [],
   "source": [
    "# Taking a look at the data\n",
    "df_gov_data.head()\n"
   ]
  },
  {
   "cell_type": "code",
   "execution_count": null,
   "metadata": {},
   "outputs": [],
   "source": [
    "# Taking a look at the exact column strings - showed me the spaces I didn't see before in headers\n",
    "df_gov_data.columns\n"
   ]
  },
  {
   "cell_type": "code",
   "execution_count": null,
   "metadata": {},
   "outputs": [],
   "source": [
    "# confirming this is the entire csv original we aim to reduce\n",
    "df_gov_data.count()\n",
    " "
   ]
  },
  {
   "cell_type": "code",
   "execution_count": null,
   "metadata": {},
   "outputs": [],
   "source": [
    "# FAILED ATTEMPT to drop full row if columns value was nothing, it doesn't work like that.\n",
    "# df_gov_data[' ASSETS ']=df_gov_data[' ASSETS '].dropna(how=any)"
   ]
  },
  {
   "cell_type": "code",
   "execution_count": null,
   "metadata": {},
   "outputs": [],
   "source": [
    "# Create a new usable DataFrame SIMPLIFIED FINALLY TO 'DF' \n",
    "# with only the columns we want, dropping the rest. This isn't the final, just a step.\n",
    "df = df_gov_data[['EIN', 'FRCD', 'SUBSECCD', ' ASSETS ',\n",
    "                  ' INCOME ','NAME', 'ADDRESS', 'CITY',\n",
    "                  'STATE', 'NTEEFINAL', 'NAICS',\n",
    "                  'ZIP5', 'FNDNCD', 'PMSA','MSA_NECH',\n",
    "                  'RANDNUM', 'LEVEL1', 'LEVEL2',]]\n",
    "df.head()"
   ]
  },
  {
   "cell_type": "code",
   "execution_count": null,
   "metadata": {
    "scrolled": true
   },
   "outputs": [],
   "source": []
  },
  {
   "cell_type": "code",
   "execution_count": null,
   "metadata": {},
   "outputs": [],
   "source": [
    "# Code Katherine sent to me late last night after we had both been at this for awhile.  It works and I used it again for U.\n",
    "indexNames = pd.set_option('mode.chained_assignment',None)\n",
    "indexNames= df.index[df['LEVEL1']==\"O\"]\n",
    "df.drop(indexNames, inplace=True)\n",
    "df.head()"
   ]
  },
  {
   "cell_type": "code",
   "execution_count": null,
   "metadata": {},
   "outputs": [],
   "source": [
    "# Repeating the code above here with the U value being eliminated.  This successfully reduced our data to just PC and PF\n",
    "# (Public Charity and Private Foundation)\n",
    "# indexNames = pd.set_option('mode.chained_assignment',None) ---- this line shouldn't need to be repeated.\n",
    "indexNames= df.index[df['LEVEL1']==\"U\"]\n",
    "df.drop(indexNames, inplace=True)\n",
    "df.count()"
   ]
  },
  {
   "cell_type": "code",
   "execution_count": null,
   "metadata": {},
   "outputs": [],
   "source": [
    "# EXPORT this updated file to a new csv so we can upload it to github and use for project\n",
    "df.to_excel('data2018.xlsx', index=False)"
   ]
  },
  {
   "cell_type": "code",
   "execution_count": null,
   "metadata": {},
   "outputs": [],
   "source": [
    "# EXAMPLE OF FAILED ATTEMPT TO CHANGE TYPE, $ in columns interfere with code running.\n",
    "# df[' INCOME ']=pd.to_numeric(df[' INCOME '])\n",
    "# df[' INCOME '].dtype"
   ]
  },
  {
   "cell_type": "code",
   "execution_count": null,
   "metadata": {},
   "outputs": [],
   "source": [
    "# EXAMPLE OF FAILED ATTEMPT TO REDUCE AND CLEAN DATA\n",
    "# cleanData2018 = df.loc[df([' INCOME ']> 0),['EIN', 'LEVEL1','FRCD', 'SUBSECCD',\n",
    "#                                                                   ' ASSETS ','NAME', 'ADDRESS', 'CITY',\n",
    "#                                                                   'STATE', 'NTEEFINAL', 'NAICS',\n",
    "#                                                                   'ZIP5', 'FNDNCD', 'PMSA','MSA_NECH',\n",
    "#                                                                   'RANDNUM', 'LEVEL2',]]\n",
    "# cleanData2018.head()"
   ]
  },
  {
   "cell_type": "code",
   "execution_count": null,
   "metadata": {},
   "outputs": [],
   "source": []
  },
  {
   "cell_type": "code",
   "execution_count": null,
   "metadata": {},
   "outputs": [],
   "source": []
  }
 ],
 "metadata": {
  "kernelspec": {
   "display_name": "Python 3",
   "language": "python",
   "name": "python3"
  },
  "language_info": {
   "codemirror_mode": {
    "name": "ipython",
    "version": 3
   },
   "file_extension": ".py",
   "mimetype": "text/x-python",
   "name": "python",
   "nbconvert_exporter": "python",
   "pygments_lexer": "ipython3",
   "version": "3.6.9"
  }
 },
 "nbformat": 4,
 "nbformat_minor": 2
}
